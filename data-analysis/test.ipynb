{
 "cells": [
  {
   "cell_type": "markdown",
   "metadata": {},
   "source": [
    "Imports"
   ]
  },
  {
   "cell_type": "code",
   "execution_count": 15,
   "metadata": {},
   "outputs": [],
   "source": [
    "from pymongo import MongoClient\n",
    "import pandas as pd"
   ]
  },
  {
   "cell_type": "markdown",
   "metadata": {},
   "source": [
    "Read MongoDB"
   ]
  },
  {
   "cell_type": "code",
   "execution_count": 23,
   "metadata": {},
   "outputs": [
    {
     "name": "stdout",
     "output_type": "stream",
     "text": [
      "_id                              65c03585e28a9c8dc1ed5ba3\n",
      "leftStartingZone                                     True\n",
      "autoAmpNotes                                            1\n",
      "teleAmpNotes                                            1\n",
      "trapNotes                                               1\n",
      "highNotes                                               2\n",
      "climb                                                 amp\n",
      "__v                                                     0\n",
      "metadata.scouterName                                  Jim\n",
      "metadata.robotTeam                                   8960\n",
      "metadata.robotPosition                              red_3\n",
      "autoSpeakerNotes.near                                   4\n",
      "autoSpeakerNotes.mid                                    4\n",
      "autoSpeakerNotes.far                                    0\n",
      "teleNonAmpedSpeakerNotes.near                           2\n",
      "teleNonAmpedSpeakerNotes.mid                            2\n",
      "teleNonAmpedSpeakerNotes.far                            3\n",
      "teleAmpedSpeakerNotes.near                              2\n",
      "teleAmpedSpeakerNotes.mid                               1\n",
      "teleAmpedSpeakerNotes.far                               1\n",
      "Name: 0, dtype: object\n"
     ]
    }
   ],
   "source": [
    "client = MongoClient()\n",
    "db = client[\"test\"]\n",
    "collection = db[\"matchapps\"]\n",
    "df = pd.json_normalize(collection.find())"
   ]
  },
  {
   "cell_type": "markdown",
   "metadata": {},
   "source": [
    "Clean Data"
   ]
  },
  {
   "cell_type": "code",
   "execution_count": null,
   "metadata": {},
   "outputs": [],
   "source": [
    "df.dropna(inplace=True)"
   ]
  },
  {
   "cell_type": "markdown",
   "metadata": {},
   "source": [
    "Analyze Data"
   ]
  },
  {
   "cell_type": "code",
   "execution_count": null,
   "metadata": {},
   "outputs": [],
   "source": []
  },
  {
   "cell_type": "markdown",
   "metadata": {},
   "source": [
    "Send Data to Backend"
   ]
  },
  {
   "cell_type": "code",
   "execution_count": 1,
   "metadata": {},
   "outputs": [],
   "source": []
  }
 ],
 "metadata": {
  "kernelspec": {
   "display_name": "Python 3",
   "language": "python",
   "name": "python3"
  },
  "language_info": {
   "codemirror_mode": {
    "name": "ipython",
    "version": 3
   },
   "file_extension": ".py",
   "mimetype": "text/x-python",
   "name": "python",
   "nbconvert_exporter": "python",
   "pygments_lexer": "ipython3",
   "version": "3.12.1"
  }
 },
 "nbformat": 4,
 "nbformat_minor": 2
}
