{
 "cells": [
  {
   "cell_type": "markdown",
   "metadata": {},
   "source": [
    "# SETUP"
   ]
  },
  {
   "cell_type": "markdown",
   "metadata": {},
   "source": [
    "## Import Libraries"
   ]
  },
  {
   "cell_type": "code",
   "execution_count": null,
   "metadata": {},
   "outputs": [],
   "source": [
    "from pymongo import MongoClient\n",
    "import pandas as pd\n",
    "import numpy as np"
   ]
  },
  {
   "cell_type": "markdown",
   "metadata": {},
   "source": [
    "## Read MongoDB"
   ]
  },
  {
   "cell_type": "code",
   "execution_count": null,
   "metadata": {},
   "outputs": [],
   "source": [
    "client = MongoClient('mongodb://localhost:27017')\n",
    "db = client[\"test\"]"
   ]
  },
  {
   "cell_type": "markdown",
   "metadata": {},
   "source": [
    "## Initialize Output DataFrame"
   ]
  },
  {
   "cell_type": "code",
   "execution_count": null,
   "metadata": {},
   "outputs": [],
   "source": [
    "output_df = pd.DataFrame()"
   ]
  },
  {
   "cell_type": "markdown",
   "metadata": {},
   "source": [
    "# MATCHAPPS"
   ]
  },
  {
   "cell_type": "markdown",
   "metadata": {},
   "source": [
    "## Matchapps Initalization"
   ]
  },
  {
   "cell_type": "markdown",
   "metadata": {},
   "source": [
    "### Create Matchapps DataFrame"
   ]
  },
  {
   "cell_type": "code",
   "execution_count": null,
   "metadata": {},
   "outputs": [],
   "source": [
    "matchapps_collection = db[\"matchapps\"]\n",
    "matchapps_df = matchapps_collection.find()"
   ]
  },
  {
   "cell_type": "markdown",
   "metadata": {},
   "source": [
    "### Test"
   ]
  },
  {
   "cell_type": "code",
   "execution_count": null,
   "metadata": {},
   "outputs": [],
   "source": [
    "test = pd.json_normalize(matchapps_collection.find())"
   ]
  },
  {
   "cell_type": "code",
   "execution_count": null,
   "metadata": {},
   "outputs": [],
   "source": [
    "test[test['metadata.robotTeam'] == 6036]"
   ]
  },
  {
   "cell_type": "markdown",
   "metadata": {},
   "source": [
    "### Flatten, reorganize, and clean Data"
   ]
  },
  {
   "cell_type": "code",
   "execution_count": null,
   "metadata": {},
   "outputs": [],
   "source": [
    "matchapps_df = pd.json_normalize(matchapps_df)\n",
    "\n",
    "matchapps_column_order = [\n",
    "    \"_id\",\n",
    "    \"metadata.matchNumber\",\n",
    "    \"metadata.scouterName\",\n",
    "    \"metadata.robotTeam\",\n",
    "    \"metadata.robotPosition\",\n",
    "    \"leftStartingZone\",\n",
    "    \"climb\",\n",
    "    \"trapNotes\",\n",
    "    \"autoNotes.near\",\n",
    "    \"autoNotes.mid\",\n",
    "    \"autoNotes.far\",\n",
    "    \"autoNotes.amp\",\n",
    "    \"autoNotes.miss\",\n",
    "    \"teleNotes.near\",\n",
    "    \"teleNotes.mid\",\n",
    "    \"teleNotes.far\",\n",
    "    \"teleNotes.amp\",\n",
    "    \"teleNotes.miss\"   \n",
    "]\n",
    "\n",
    "matchapps_df = matchapps_df[matchapps_column_order]\n",
    "matchapps_df.sort_values(\"metadata.matchNumber\", inplace=True)\n",
    "matchapps_df"
   ]
  },
  {
   "cell_type": "code",
   "execution_count": null,
   "metadata": {},
   "outputs": [],
   "source": [
    "matchapps_df['Total Note Points'] = matchapps_df['autoNotes.amp'] * 2 + (matchapps_df['autoNotes.far'] + matchapps_df['autoNotes.mid'] + matchapps_df['autoNotes.near']) * 5 + matchapps_df['teleNotes.amp'] * 1 + (matchapps_df['teleNotes.far'] + matchapps_df['teleNotes.mid'] + matchapps_df['teleNotes.near']) * 2\n",
    "matchapps_df"
   ]
  },
  {
   "cell_type": "code",
   "execution_count": null,
   "metadata": {},
   "outputs": [],
   "source": [
    "matchapps_middle = matchapps_df.groupby('metadata.robotTeam').apply(lambda x: x.sort_values('Total Note Points').iloc[2:-2])['_id']"
   ]
  },
  {
   "cell_type": "code",
   "execution_count": null,
   "metadata": {},
   "outputs": [],
   "source": [
    "matchapps_df = matchapps_df[matchapps_df['_id'].isin(matchapps_middle)]"
   ]
  },
  {
   "cell_type": "code",
   "execution_count": null,
   "metadata": {},
   "outputs": [],
   "source": [
    "matchapps_df[matchapps_df['metadata.robotTeam'] == 368]"
   ]
  },
  {
   "cell_type": "markdown",
   "metadata": {},
   "source": [
    "## Matchapps Function and Variable Initializations"
   ]
  },
  {
   "cell_type": "markdown",
   "metadata": {},
   "source": [
    "### Check Alliance Harmonization Function Definition"
   ]
  },
  {
   "cell_type": "code",
   "execution_count": null,
   "metadata": {},
   "outputs": [],
   "source": [
    "def check_team_harmonization_in_alliance(t1, t2, t3):\n",
    "    t1_status, t2_status, t3_status = False, False, False\n",
    "    if t1 not in [\"failed\", \"none\", \"park\"]:\n",
    "        if t1 == t2:\n",
    "            t1_status = True\n",
    "            t2_status = True\n",
    "        if t1 == t3:\n",
    "            t1_status = True\n",
    "            t3_status = True\n",
    "    elif t2 not in [\"failed\", \"none\", \"park\"]:\n",
    "        if t2 == t3:\n",
    "            t2_status = True\n",
    "            t3_status = True\n",
    "    return t1_status, t2_status, t3_status"
   ]
  },
  {
   "cell_type": "markdown",
   "metadata": {},
   "source": [
    "### Complete List of all Teams in DF"
   ]
  },
  {
   "cell_type": "code",
   "execution_count": null,
   "metadata": {},
   "outputs": [],
   "source": [
    "team_list = matchapps_df[\"metadata.robotTeam\"].unique().tolist()"
   ]
  },
  {
   "cell_type": "code",
   "execution_count": null,
   "metadata": {},
   "outputs": [],
   "source": [
    "team_list = [team for team in team_list if not np.isnan(team)]"
   ]
  },
  {
   "cell_type": "markdown",
   "metadata": {},
   "source": [
    "### Complete Range of All Matches"
   ]
  },
  {
   "cell_type": "code",
   "execution_count": null,
   "metadata": {},
   "outputs": [],
   "source": [
    "match_range = matchapps_df[\"metadata.matchNumber\"].max()"
   ]
  },
  {
   "cell_type": "markdown",
   "metadata": {},
   "source": [
    "## Matchapps Data Analysis"
   ]
  },
  {
   "cell_type": "markdown",
   "metadata": {},
   "source": [
    "### Auto Data Analysis Calculations"
   ]
  },
  {
   "cell_type": "markdown",
   "metadata": {},
   "source": [
    "#### Auto Speaker Notes Average (near, mid, far)"
   ]
  },
  {
   "cell_type": "code",
   "execution_count": null,
   "metadata": {},
   "outputs": [],
   "source": [
    "output_df[\"Auto Speaker Notes Near Avg\"] = matchapps_df.groupby(\"metadata.robotTeam\")[\"autoNotes.near\"].mean()\n",
    "output_df[\"Auto Speaker Notes Mid Avg\"] = matchapps_df.groupby(\"metadata.robotTeam\")[\"autoNotes.mid\"].mean()\n",
    "output_df[\"Auto Speaker Notes Far Avg\"] = matchapps_df.groupby(\"metadata.robotTeam\")[\"autoNotes.far\"].mean()\n",
    "\n",
    "output_df[\"Auto Speaker Notes Total Avg\"] = None\n",
    "\n",
    "for team in team_list:\n",
    "    output_df.at[team, \"Auto Speaker Notes Total Avg\"] = sum([output_df.at[team, \"Auto Speaker Notes Near Avg\"], output_df.at[team, \"Auto Speaker Notes Mid Avg\"], output_df.at[team, \"Auto Speaker Notes Far Avg\"]])"
   ]
  },
  {
   "cell_type": "code",
   "execution_count": null,
   "metadata": {},
   "outputs": [],
   "source": [
    "\n",
    "grouped = matchapps_df.groupby(\"metadata.robotTeam\")\n",
    "output_df[\"Auto Speaker Notes Near Max\"] = grouped[\"autoNotes.near\"].max()\n",
    "output_df[\"Auto Speaker Notes Mid Max\"] = grouped[\"autoNotes.mid\"].max()\n",
    "output_df[\"Auto Speaker Notes Far Max\"] = grouped[\"autoNotes.far\"].max()\n",
    "output_df[\"Auto Speaker Notes Total Max\"] = (matchapps_df[[\"autoNotes.far\", \"autoNotes.mid\", \"autoNotes.near\"]].sum(axis=1)).groupby(matchapps_df['metadata.robotTeam']).max()\n",
    "\n",
    "output_df"
   ]
  },
  {
   "cell_type": "markdown",
   "metadata": {},
   "source": [
    "#### Auto Amp Notes Average"
   ]
  },
  {
   "cell_type": "code",
   "execution_count": null,
   "metadata": {},
   "outputs": [],
   "source": [
    "output_df[\"Auto Notes Amp Avg\"] = matchapps_df.groupby(\"metadata.robotTeam\")[\"autoNotes.amp\"].mean()"
   ]
  },
  {
   "cell_type": "markdown",
   "metadata": {},
   "source": [
    "#### Auto Percent of Miss Notes"
   ]
  },
  {
   "cell_type": "code",
   "execution_count": null,
   "metadata": {},
   "outputs": [],
   "source": [
    "output_df[\"Auto Percent of Missed Notes\"] = None\n",
    "\n",
    " # CHANGE FORMAT LATER\n",
    "output_df[\"Auto Max Missed Notes\"] = None\n",
    "for team in team_list:\n",
    "    missed_notes = matchapps_df[matchapps_df[\"metadata.robotTeam\"] == team][\"autoNotes.miss\"].sum()\n",
    "    total_notes = matchapps_df[matchapps_df[\"metadata.robotTeam\"] == team][\"autoNotes.near\"].sum()\n",
    "    + matchapps_df[matchapps_df[\"metadata.robotTeam\"] == team][\"autoNotes.mid\"].sum()\n",
    "    + matchapps_df[matchapps_df[\"metadata.robotTeam\"] == team][\"autoNotes.far\"].sum()\n",
    "    + matchapps_df[matchapps_df[\"metadata.robotTeam\"] == team][\"autoNotes.amp\"].sum()\n",
    "    + missed_notes\n",
    "    output_df.at[team, \"Auto Percent of Missed Notes\"] = missed_notes / total_notes\n",
    "    \n",
    "     # CHANGE FORMAT LATER\n",
    "\n",
    "    output_df.at[team, \"Auto Max Missed Notes\"] = matchapps_df[matchapps_df[\"metadata.robotTeam\"] == team][\"autoNotes.amp\"].max()"
   ]
  },
  {
   "cell_type": "markdown",
   "metadata": {},
   "source": [
    "#### Auto All Notes Average"
   ]
  },
  {
   "cell_type": "code",
   "execution_count": null,
   "metadata": {},
   "outputs": [],
   "source": [
    "output_df[\"Auto Notes Avg\"] = (output_df[\"Auto Notes Amp Avg\"] +\n",
    "                               output_df[\"Auto Speaker Notes Near Avg\"] +\n",
    "                               output_df[\"Auto Speaker Notes Mid Avg\"] +\n",
    "                               output_df[\"Auto Speaker Notes Far Avg\"]) / 4"
   ]
  },
  {
   "cell_type": "markdown",
   "metadata": {},
   "source": [
    "#### Average Auto points"
   ]
  },
  {
   "cell_type": "code",
   "execution_count": null,
   "metadata": {},
   "outputs": [],
   "source": [
    "output_df['Auto Points Avg'] = (5 * (matchapps_df['teleNotes.near'] + matchapps_df['teleNotes.mid'] + matchapps_df['teleNotes.far']) + 2 * matchapps_df['teleNotes.amp']).groupby(matchapps_df['metadata.robotTeam']).mean()"
   ]
  },
  {
   "cell_type": "markdown",
   "metadata": {},
   "source": [
    "### Teleop Data Analysis Calculations"
   ]
  },
  {
   "cell_type": "markdown",
   "metadata": {},
   "source": [
    "#### Teleop Speaker Notes Average (near, mid, far)"
   ]
  },
  {
   "cell_type": "code",
   "execution_count": null,
   "metadata": {},
   "outputs": [],
   "source": []
  },
  {
   "cell_type": "code",
   "execution_count": null,
   "metadata": {},
   "outputs": [],
   "source": [
    "output_df[\"Tele Speaker Notes Near Avg\"] = matchapps_df.groupby(\"metadata.robotTeam\")[\"teleNotes.near\"].mean()\n",
    "output_df[\"Tele Speaker Notes Mid Avg\"] = matchapps_df.groupby(\"metadata.robotTeam\")[\"teleNotes.mid\"].mean()\n",
    "output_df[\"Tele Speaker Notes Far Avg\"] = matchapps_df.groupby(\"metadata.robotTeam\")[\"teleNotes.far\"].mean()\n",
    "\n",
    "output_df[\"Tele Speaker Notes Total Avg\"] = None\n",
    "\n",
    "for team in team_list:\n",
    "    output_df.at[team, \"Tele Speaker Notes Total Avg\"] = sum([output_df.at[team, \"Tele Speaker Notes Near Avg\"], output_df.at[team, \"Tele Speaker Notes Mid Avg\"], output_df.at[team, \"Tele Speaker Notes Far Avg\"]])"
   ]
  },
  {
   "cell_type": "code",
   "execution_count": null,
   "metadata": {},
   "outputs": [],
   "source": [
    "output_df[\"Tele Speaker Notes Near Max\"] = grouped[\"teleNotes.near\"].max()\n",
    "output_df[\"Tele Speaker Notes Mid Max\"] = grouped[\"teleNotes.mid\"].max()\n",
    "output_df[\"Tele Speaker Notes Far Max\"] = grouped[\"teleNotes.far\"].max()\n",
    "output_df[\"Tele Speaker Notes Total Max\"] = (matchapps_df[[\"teleNotes.far\", \"teleNotes.mid\", \"teleNotes.near\"]].sum(axis=1)).groupby(matchapps_df['metadata.robotTeam']).max()\n",
    "\n",
    "output_df"
   ]
  },
  {
   "cell_type": "markdown",
   "metadata": {},
   "source": [
    "#### Teleop Amp Notes Average"
   ]
  },
  {
   "cell_type": "code",
   "execution_count": null,
   "metadata": {},
   "outputs": [],
   "source": [
    "output_df[\"Tele Notes Amp Avg\"] = matchapps_df.groupby(\"metadata.robotTeam\")[\"teleNotes.amp\"].mean()\n",
    "\n",
    " # CHANGE FORMAT LATER\n",
    "output_df[\"Tele Max Amp Notes\"] = matchapps_df.groupby(\"metadata.robotTeam\")[\"teleNotes.amp\"].max()"
   ]
  },
  {
   "cell_type": "markdown",
   "metadata": {},
   "source": [
    "#### Teleop All Notes Average"
   ]
  },
  {
   "cell_type": "code",
   "execution_count": null,
   "metadata": {},
   "outputs": [],
   "source": [
    "output_df[\"Tele Notes Avg\"] = (output_df[\"Tele Notes Amp Avg\"] +\n",
    "                               output_df[\"Tele Speaker Notes Near Avg\"] +\n",
    "                               output_df[\"Tele Speaker Notes Mid Avg\"] +\n",
    "                               output_df[\"Tele Speaker Notes Far Avg\"]) / 4\n",
    "\n",
    " # CHANGE FORMAT LATER\n",
    "output_df[\"Tele Max Notes\"] = None"
   ]
  },
  {
   "cell_type": "markdown",
   "metadata": {},
   "source": [
    "#### Teleop Percent of Missed Notes"
   ]
  },
  {
   "cell_type": "code",
   "execution_count": null,
   "metadata": {},
   "outputs": [],
   "source": [
    "output_df[\"Tele Percent of Missed Notes\"] = None\n",
    "\n",
    " # CHANGE FORMAT LATER\n",
    "output_df[\"Tele Max Missed Notes\"] = None\n",
    "for team in team_list:\n",
    "    missed_notes = matchapps_df[matchapps_df[\"metadata.robotTeam\"] == team][\"teleNotes.miss\"].sum()\n",
    "    total_notes = matchapps_df[matchapps_df[\"metadata.robotTeam\"] == team][\"teleNotes.near\"].sum()\n",
    "    + matchapps_df[matchapps_df[\"metadata.robotTeam\"] == team][\"teleNotes.mid\"].sum()\n",
    "    + matchapps_df[matchapps_df[\"metadata.robotTeam\"] == team][\"teleNotes.far\"].sum()\n",
    "    + matchapps_df[matchapps_df[\"metadata.robotTeam\"] == team][\"teleNotes.amp\"].sum()\n",
    "    + missed_notes\n",
    "    output_df.at[team, \"Percent of Missed Notes\"] = missed_notes / total_notes\n",
    "    \n",
    "     # CHANGE FORMAT LATER\n",
    "\n",
    "    output_df.at[team, \"Tele Max Missed Notes\"] = matchapps_df[matchapps_df[\"metadata.robotTeam\"] == team][\"teleNotes.amp\"].max()"
   ]
  },
  {
   "cell_type": "code",
   "execution_count": null,
   "metadata": {},
   "outputs": [],
   "source": [
    "output_df[\"Tele Speaker Notes Near Max\"] = matchapps_df.groupby(\"metadata.robotTeam\")[\"teleNotes.near\"].max()\n",
    "output_df[\"Tele Speaker Notes Mid Max\"] = matchapps_df.groupby(\"metadata.robotTeam\")[\"teleNotes.mid\"].max()\n",
    "output_df[\"Tele Speaker Notes Far Max\"] = matchapps_df.groupby(\"metadata.robotTeam\")[\"teleNotes.far\"].max()"
   ]
  },
  {
   "cell_type": "markdown",
   "metadata": {},
   "source": [
    "#### Average Teleop Points"
   ]
  },
  {
   "cell_type": "code",
   "execution_count": null,
   "metadata": {},
   "outputs": [],
   "source": [
    "output_df['Tele Points Avg'] = (2 * (matchapps_df['teleNotes.near'] + matchapps_df['teleNotes.mid'] + matchapps_df['teleNotes.far']) + 1 * matchapps_df['teleNotes.amp']).groupby(matchapps_df['metadata.robotTeam']).mean()"
   ]
  },
  {
   "cell_type": "code",
   "execution_count": null,
   "metadata": {},
   "outputs": [],
   "source": [
    "# output_df['Endgame Points Avg'] =\n",
    "#(np.where(matchapps_df['trapNotes']), 0, 1)\n",
    "np.where(matchapps_df['climb'].isin(['source', 'center', 'amp']), 0, 3)\n"
   ]
  },
  {
   "cell_type": "markdown",
   "metadata": {},
   "source": [
    "### Other Data Analysis Calculations"
   ]
  },
  {
   "cell_type": "markdown",
   "metadata": {},
   "source": [
    "#### Trap Notes"
   ]
  },
  {
   "cell_type": "code",
   "execution_count": null,
   "metadata": {},
   "outputs": [],
   "source": [
    "output_df[\"Trap Notes Avg\"] = matchapps_df.groupby(\"metadata.robotTeam\")[\"trapNotes\"].mean()"
   ]
  },
  {
   "cell_type": "markdown",
   "metadata": {},
   "source": [
    "#### Percent of Successful Climbs and Successful Climbs Total"
   ]
  },
  {
   "cell_type": "code",
   "execution_count": null,
   "metadata": {},
   "outputs": [],
   "source": [
    "output_df[\"Percent of Successful Climbs\"] = None\n",
    "output_df[\"Successful Climbs Total\"] = None\n",
    "\n",
    "for team in team_list:\n",
    "    climb_list = matchapps_df.loc[matchapps_df[\"metadata.robotTeam\"] == team, \"climb\"].tolist()\n",
    "    total_climbs = 0\n",
    "    successful_climbs = 0\n",
    "    for climb_type in climb_list:\n",
    "        if climb_type == \"failed\":\n",
    "            total_climbs += 1\n",
    "        elif climb_type == \"amp\" or climb_type == \"source\" or climb_type == \"center\":\n",
    "            total_climbs += 1\n",
    "            successful_climbs += 1\n",
    "    if total_climbs == 0:\n",
    "        output_df.at[team, \"Percent of Successful Climbs\"] = 0\n",
    "        \n",
    "    else:\n",
    "        output_df.at[team, \"Percent of Successful Climbs\"] = successful_climbs / total_climbs\n",
    "    \n",
    "    output_df.at[team, \"Successful Climbs Total\"] = successful_climbs"
   ]
  },
  {
   "cell_type": "markdown",
   "metadata": {},
   "source": [
    "#### Harmonized Climbs Total"
   ]
  },
  {
   "cell_type": "markdown",
   "metadata": {},
   "source": [
    "#### Percent of Harmonized Climbs out of Successful Climbs"
   ]
  },
  {
   "cell_type": "code",
   "execution_count": null,
   "metadata": {},
   "outputs": [],
   "source": [
    "# output_df[\"Percent of Harmonized Climbs out of Successful Climbs\"] = 0\n",
    "\n",
    "# output_df.index\n",
    "\n",
    "# for team in team_list:\n",
    "#     output_df.at[team, \"Percent of Harmonized Climbs out of Successful Climbs\"] = output_df.at[team, \"Harmonized Climbs Total\"] / output_df.at[team, \"Successful Climbs Total\"]"
   ]
  },
  {
   "cell_type": "markdown",
   "metadata": {},
   "source": [
    "#### Percent of Times Robot Left Starting Zone During Autos"
   ]
  },
  {
   "cell_type": "code",
   "execution_count": null,
   "metadata": {},
   "outputs": [],
   "source": [
    "output_df[\"Percent of Times Robot Left Starting Zone During Autos\"] = matchapps_df.groupby(\"metadata.robotTeam\")[\"leftStartingZone\"].mean()"
   ]
  },
  {
   "cell_type": "markdown",
   "metadata": {},
   "source": [
    "### Custom Metric Data Analysis Calculations"
   ]
  },
  {
   "cell_type": "markdown",
   "metadata": {},
   "source": [
    "#### Endgame Custom Metric"
   ]
  },
  {
   "cell_type": "code",
   "execution_count": null,
   "metadata": {},
   "outputs": [],
   "source": [
    "# output_df[\"Endgame Custom Metric\"] = ((output_df[\"Percent of Successful Climbs\"] * 5) ** 2 + (output_df[\"Percent of Harmonized Climbs out of Successful Climbs\"] * 5) ** 2 + (output_df[\"Trap Notes Avg\"] * 5) ** 2) / 3\n",
    "# output_df[\"Endgame Custom Metric\"] = output_df[\"Endgame Custom Metric\"].apply(lambda x: round(x, 1))"
   ]
  },
  {
   "cell_type": "markdown",
   "metadata": {},
   "source": [
    "# SUPERAPPS"
   ]
  },
  {
   "cell_type": "markdown",
   "metadata": {},
   "source": [
    "## Supperapps Initalization"
   ]
  },
  {
   "cell_type": "markdown",
   "metadata": {},
   "source": [
    "### Create Superapps DataFrame"
   ]
  },
  {
   "cell_type": "code",
   "execution_count": null,
   "metadata": {},
   "outputs": [],
   "source": [
    "superapps_collection = db[\"superapps\"]\n",
    "superapps_df = superapps_collection.find()"
   ]
  },
  {
   "cell_type": "markdown",
   "metadata": {},
   "source": [
    "### Flatten, reorganize, and clean Data"
   ]
  },
  {
   "cell_type": "code",
   "execution_count": null,
   "metadata": {},
   "outputs": [],
   "source": [
    "superapps_df = pd.json_normalize(superapps_df)\n",
    "superapps_df.sort_values(\"metadata.matchNumber\", inplace=True)\n",
    "superapps_df"
   ]
  },
  {
   "cell_type": "markdown",
   "metadata": {},
   "source": [
    "## Superapps Data Analysis"
   ]
  },
  {
   "cell_type": "markdown",
   "metadata": {},
   "source": [
    "### Average Fouls per Match for Different Foul Types"
   ]
  },
  {
   "cell_type": "code",
   "execution_count": null,
   "metadata": {},
   "outputs": [],
   "source": [
    "output_df[\"Average In Robot Fouls per Match\"] = superapps_df.groupby(\"metadata.robotTeam\")[\"fouls.insideRobot\"].mean()\n",
    "output_df[\"Average Protected Zone Fouls per Match\"] = superapps_df.groupby(\"metadata.robotTeam\")[\"fouls.protectedZone\"].mean()\n",
    "output_df[\"Average Pinning Fouls per Match\"] = superapps_df.groupby(\"metadata.robotTeam\")[\"fouls.pinning\"].mean()\n",
    "output_df[\"Average Multiple Pieces Fouls per Match\"] = superapps_df.groupby(\"metadata.robotTeam\")[\"fouls.multiplePieces\"].mean()\n",
    "output_df[\"Average Other Fouls per Match\"] = superapps_df.groupby(\"metadata.robotTeam\")[\"fouls.other\"].mean()\n"
   ]
  },
  {
   "cell_type": "markdown",
   "metadata": {},
   "source": [
    "### Average Total Fouls per Match"
   ]
  },
  {
   "cell_type": "code",
   "execution_count": null,
   "metadata": {},
   "outputs": [],
   "source": [
    "output_df[\"Average Fouls per Match\"] = superapps_df[[\n",
    "    'fouls.insideRobot', 'fouls.protectedZone', 'fouls.pinning', 'fouls.multiplePieces', 'fouls.other'\n",
    "]].sum(axis = 1).groupby(superapps_df['metadata.robotTeam']).mean()\n",
    "output_df['Average Fouls per Match']"
   ]
  },
  {
   "cell_type": "markdown",
   "metadata": {},
   "source": [
    "### Percent of Different Defense Types in Matches AND Main Defense Type"
   ]
  },
  {
   "cell_type": "code",
   "execution_count": null,
   "metadata": {},
   "outputs": [],
   "source": [
    "def safeDivide(a, b):\n",
    "    return 0 if b == 0 else a / b"
   ]
  },
  {
   "cell_type": "code",
   "execution_count": null,
   "metadata": {},
   "outputs": [],
   "source": [
    "output_df[\"Percent of Matches with No Defense\"] = None\n",
    "output_df[\"Percent of Matches with Some Defense\"] = None\n",
    "output_df[\"Percent of Matches with Full Defense\"] = None\n",
    "output_df[\"Main Defense Type\"] = None\n",
    "\n",
    "for team in team_list:\n",
    "    \n",
    "    defense_type_list = superapps_df.loc[superapps_df[\"metadata.robotTeam\"] == team, \"defense\"].tolist()\n",
    "    \n",
    "    no_defense_count = 0\n",
    "    some_defense_count = 0\n",
    "    full_defense_count = 0\n",
    "    \n",
    "    for defense_type in defense_type_list:\n",
    "        if defense_type == \"noDef\":\n",
    "            no_defense_count += 1\n",
    "        elif defense_type == \"someDef\":\n",
    "            some_defense_count += 1\n",
    "        elif defense_type == \"fullDef\":\n",
    "            full_defense_count += 1\n",
    "\n",
    "    defense_total_count = sum([no_defense_count, some_defense_count, full_defense_count])\n",
    "        \n",
    "    output_df.at[team, \"Percent of Matches with No Defense\"] = safeDivide(no_defense_count, defense_total_count)\n",
    "    output_df.at[team, \"Percent of Matches with Some Defense\"] = safeDivide(some_defense_count, defense_total_count)\n",
    "    output_df.at[team, \"Percent of Matches with Full Defense\"] = safeDivide(full_defense_count, defense_total_count)\n",
    "    \n",
    "    biggest_defense_count = max([no_defense_count, some_defense_count, full_defense_count])\n",
    "    main_defense_type = \"\"\n",
    "\n",
    "    if biggest_defense_count == no_defense_count:\n",
    "        main_defense_type += \"No Defense \"\n",
    "    if biggest_defense_count == some_defense_count:\n",
    "        main_defense_type += \"Some Defense \"\n",
    "    if biggest_defense_count == full_defense_count:\n",
    "        main_defense_type += \"Full Defense\"\n",
    "    \n",
    "    output_df.at[team, \"Main Defense Type\"] = main_defense_type"
   ]
  },
  {
   "cell_type": "markdown",
   "metadata": {},
   "source": [
    "## Comment Counts"
   ]
  },
  {
   "cell_type": "code",
   "execution_count": null,
   "metadata": {},
   "outputs": [],
   "source": [
    "exploded = superapps_df.explode('comments')"
   ]
  },
  {
   "cell_type": "code",
   "execution_count": null,
   "metadata": {},
   "outputs": [],
   "source": [
    "# Individual Counts\n",
    "comment_count_columns = exploded.groupby('metadata.robotTeam')['comments'].value_counts().unstack(fill_value = 0)\n",
    "for col in comment_count_columns:\n",
    "    output_df[f'Total {col} Comments'] = comment_count_columns[col]"
   ]
  },
  {
   "cell_type": "code",
   "execution_count": null,
   "metadata": {},
   "outputs": [],
   "source": [
    "for comment in ['avoids_under_stage',\n",
    " 'clogging',\n",
    " 'effective_defense',\n",
    " 'good_driving',\n",
    " 'ineffective_defense',\n",
    " 'okay_defense',\n",
    " 'source_only',\n",
    " 'sturdy_build',\n",
    " 'weak_build']:\n",
    "    output_df[f'Average {comment} comments'] = None\n",
    "\n",
    "    for team in team_list:\n",
    "        \n",
    "        commentInMatches = superapps_df.loc[superapps_df[\"metadata.robotTeam\"] == team, 'comments'].apply(lambda x: comment in x)\n",
    "\n",
    "        output_df.at[team, f'Average {comment} comments'] = safeDivide(commentInMatches[commentInMatches].size, commentInMatches.size)\n",
    "\n",
    "output_df"
   ]
  },
  {
   "cell_type": "code",
   "execution_count": null,
   "metadata": {},
   "outputs": [],
   "source": [
    "# Single Object\n",
    "\n",
    "comment_counts = exploded.groupby('metadata.robotTeam')['comments'].apply(lambda x: [x.value_counts().to_dict()]).apply(lambda x: x[0])\n",
    "# Yes that is jank but it wouldn't dictify nicely otherwise\n",
    "\n",
    "output_df['Comments'] = comment_counts\n"
   ]
  },
  {
   "cell_type": "markdown",
   "metadata": {},
   "source": [
    "## Additionals"
   ]
  },
  {
   "cell_type": "code",
   "execution_count": null,
   "metadata": {},
   "outputs": [],
   "source": []
  },
  {
   "cell_type": "markdown",
   "metadata": {},
   "source": [
    "# FINALIZE AND SEND DATA"
   ]
  },
  {
   "cell_type": "markdown",
   "metadata": {},
   "source": [
    "## Send Data"
   ]
  },
  {
   "cell_type": "code",
   "execution_count": null,
   "metadata": {},
   "outputs": [],
   "source": [
    "output_df['teamNumber'] = output_df.index"
   ]
  },
  {
   "cell_type": "code",
   "execution_count": null,
   "metadata": {},
   "outputs": [],
   "source": [
    "output_df.to_csv(\"../server/static/output_analysis_new.csv\")"
   ]
  },
  {
   "cell_type": "code",
   "execution_count": null,
   "metadata": {},
   "outputs": [],
   "source": [
    "output_df.to_json(\"../server/static/output_analysis_new.json\", orient='records', default_handler=str)\n",
    "output_df"
   ]
  },
  {
   "cell_type": "code",
   "execution_count": null,
   "metadata": {},
   "outputs": [],
   "source": [
    "client.close()"
   ]
  }
 ],
 "metadata": {
  "kernelspec": {
   "display_name": "Python 3 (ipykernel)",
   "language": "python",
   "name": "python3"
  },
  "language_info": {
   "codemirror_mode": {
    "name": "ipython",
    "version": 3
   },
   "file_extension": ".py",
   "mimetype": "text/x-python",
   "name": "python",
   "nbconvert_exporter": "python",
   "pygments_lexer": "ipython3",
   "version": "3.11.8"
  }
 },
 "nbformat": 4,
 "nbformat_minor": 2
}
