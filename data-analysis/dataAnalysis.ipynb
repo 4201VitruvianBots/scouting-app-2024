{
 "cells": [
  {
   "cell_type": "markdown",
   "metadata": {},
   "source": [
    "# Initialize Everything"
   ]
  },
  {
   "cell_type": "code",
   "execution_count": 21,
   "metadata": {},
   "outputs": [],
   "source": [
    "from pymongo import MongoClient\n",
    "import pandas as pd"
   ]
  },
  {
   "cell_type": "markdown",
   "metadata": {},
   "source": [
    "## Read MongoDB"
   ]
  },
  {
   "cell_type": "code",
   "execution_count": 22,
   "metadata": {},
   "outputs": [],
   "source": [
    "client = MongoClient()\n",
    "db = client[\"test\"]\n",
    "collection = db[\"matchapps\"]\n",
    "df = pd.json_normalize(collection.find())"
   ]
  },
  {
   "cell_type": "markdown",
   "metadata": {},
   "source": [
    "## Reorganize and clean Data"
   ]
  },
  {
   "cell_type": "code",
   "execution_count": 23,
   "metadata": {},
   "outputs": [],
   "source": [
    "# df.drop(\"__v\", axis=1, inplace=True)\n",
    "\n",
    "column_order = [\n",
    "    \"_id\",\n",
    "    \"metadata.scouterName\",\n",
    "    \"metadata.robotTeam\",\n",
    "    \"metadata.robotPosition\",\n",
    "    \"leftStartingZone\",\n",
    "    \"climb\",\n",
    "    \"autoAmpNotes\",\n",
    "    \"teleAmpNotes\",\n",
    "    \"trapNotes\",\n",
    "    \"highNotes\",\n",
    "    \"autoSpeakerNotes.near\",\n",
    "    \"autoSpeakerNotes.mid\",\n",
    "    \"autoSpeakerNotes.far\",\n",
    "    \"teleNonAmpedSpeakerNotes.near\",\n",
    "    \"teleNonAmpedSpeakerNotes.mid\",\n",
    "    \"teleNonAmpedSpeakerNotes.far\",\n",
    "    \"teleAmpedSpeakerNotes.near\",\n",
    "    \"teleAmpedSpeakerNotes.mid\",\n",
    "    \"teleAmpedSpeakerNotes.far\"\n",
    "]\n",
    "\n",
    "df = df[column_order]"
   ]
  },
  {
   "cell_type": "markdown",
   "metadata": {},
   "source": [
    "## Create Output DF"
   ]
  },
  {
   "cell_type": "code",
   "execution_count": 24,
   "metadata": {},
   "outputs": [],
   "source": [
    "output_df = pd.DataFrame()"
   ]
  },
  {
   "cell_type": "markdown",
   "metadata": {},
   "source": [
    "# Helpful Function and Variable Initializations"
   ]
  },
  {
   "cell_type": "markdown",
   "metadata": {},
   "source": [
    "## Complete List of all Teams in DF"
   ]
  },
  {
   "cell_type": "code",
   "execution_count": 25,
   "metadata": {},
   "outputs": [],
   "source": [
    "team_list = df[\"metadata.robotTeam\"].unique().tolist()"
   ]
  },
  {
   "cell_type": "markdown",
   "metadata": {},
   "source": [
    "# Analyze Data"
   ]
  },
  {
   "cell_type": "markdown",
   "metadata": {},
   "source": [
    "## Tele Speaker Notes Average (near, mid, far)"
   ]
  },
  {
   "cell_type": "code",
   "execution_count": 26,
   "metadata": {},
   "outputs": [],
   "source": [
    "output_df[\"Avg Tele Speaker Notes Near\"] = df.groupby(\"metadata.robotTeam\")[\"teleNonAmpedSpeakerNotes.near\"].mean()\n",
    "output_df[\"Avg Tele Speaker Notes Mid\"] = df.groupby(\"metadata.robotTeam\")[\"teleNonAmpedSpeakerNotes.mid\"].mean()\n",
    "output_df[\"Avg Tele Speaker Notes Far\"] = df.groupby(\"metadata.robotTeam\")[\"teleNonAmpedSpeakerNotes.far\"].mean()"
   ]
  },
  {
   "cell_type": "markdown",
   "metadata": {},
   "source": [
    "## Tele Amped Speaker Notes Average (near, mid, far)"
   ]
  },
  {
   "cell_type": "code",
   "execution_count": 27,
   "metadata": {},
   "outputs": [],
   "source": [
    "output_df[\"Avg Amped Speaker Notes Near\"] = df.groupby(\"metadata.robotTeam\")[\"teleAmpedSpeakerNotes.near\"].mean()\n",
    "output_df[\"Avg Amped Speaker Notes Mid\"] = df.groupby(\"metadata.robotTeam\")[\"teleAmpedSpeakerNotes.mid\"].mean()\n",
    "output_df[\"Avg Amped Speaker Notes Far\"] = df.groupby(\"metadata.robotTeam\")[\"teleAmpedSpeakerNotes.far\"].mean()"
   ]
  },
  {
   "cell_type": "markdown",
   "metadata": {},
   "source": [
    "## Tele Amp Notes Average"
   ]
  },
  {
   "cell_type": "code",
   "execution_count": 28,
   "metadata": {},
   "outputs": [],
   "source": [
    "output_df[\"Avg Tele Amp Notes\"] = df.groupby(\"metadata.robotTeam\")[\"teleAmpNotes\"].mean()"
   ]
  },
  {
   "cell_type": "markdown",
   "metadata": {},
   "source": [
    "## Auto Speaker Notes Average (near, mid, far)"
   ]
  },
  {
   "cell_type": "code",
   "execution_count": 29,
   "metadata": {},
   "outputs": [],
   "source": [
    "output_df[\"Avg Auto Speaker Notes Near\"] = df.groupby(\"metadata.robotTeam\")[\"autoSpeakerNotes.near\"].mean()\n",
    "output_df[\"Avg Auto Speaker Notes Mid\"] = df.groupby(\"metadata.robotTeam\")[\"autoSpeakerNotes.mid\"].mean()\n",
    "output_df[\"Avg Auto Speaker Notes Far\"] = df.groupby(\"metadata.robotTeam\")[\"autoSpeakerNotes.far\"].mean()"
   ]
  },
  {
   "cell_type": "markdown",
   "metadata": {},
   "source": [
    "## Auto Amp Notes Average"
   ]
  },
  {
   "cell_type": "code",
   "execution_count": 30,
   "metadata": {},
   "outputs": [],
   "source": [
    "output_df[\"Avg Auto Amp Notes\"] = df.groupby(\"metadata.robotTeam\")[\"autoAmpNotes\"].mean()"
   ]
  },
  {
   "cell_type": "markdown",
   "metadata": {},
   "source": [
    "## Trap Notes"
   ]
  },
  {
   "cell_type": "code",
   "execution_count": 31,
   "metadata": {},
   "outputs": [],
   "source": [
    "output_df[\"Avg Trap Notes\"] = df.groupby(\"metadata.robotTeam\")[\"trapNotes\"].mean()"
   ]
  },
  {
   "cell_type": "markdown",
   "metadata": {},
   "source": [
    "## Percent of Successful Climbs"
   ]
  },
  {
   "cell_type": "code",
   "execution_count": 35,
   "metadata": {},
   "outputs": [],
   "source": [
    "output_df[\"Percent of Successful Climbs\"] = None\n",
    "for team in team_list:\n",
    "    climb_list = df.loc[df[\"metadata.robotTeam\"] == team, \"climb\"].tolist()\n",
    "    total_climbs = 0\n",
    "    successful_climbs = 0\n",
    "    for climb_type in climb_list:\n",
    "        if climb_type == \"failed\":\n",
    "            total_climbs += 1\n",
    "        elif climb_type == \"amp\" or climb_type == \"source\" or climb_type == \"center\":\n",
    "            total_climbs += 1\n",
    "            successful_climbs += 1\n",
    "    if total_climbs == 0:\n",
    "        output_df.at[team, \"Percent of Successful Climbs\"] = 0\n",
    "    else:\n",
    "        output_df.at[team, \"Percent of Successful Climbs\"] = successful_climbs / total_climbs"
   ]
  },
  {
   "cell_type": "markdown",
   "metadata": {},
   "source": [
    "## Percent of Climbs that Harmonized"
   ]
  },
  {
   "cell_type": "code",
   "execution_count": null,
   "metadata": {},
   "outputs": [],
   "source": []
  },
  {
   "cell_type": "markdown",
   "metadata": {},
   "source": [
    "## Percent of Times Robot Left Starting Zone During Autos"
   ]
  },
  {
   "cell_type": "code",
   "execution_count": 36,
   "metadata": {},
   "outputs": [],
   "source": [
    "output_df[\"Percent of Times Robot Left Starting Zone During Autos\"] = df.groupby(\"metadata.robotTeam\")[\"leftStartingZone\"].mean()"
   ]
  },
  {
   "cell_type": "markdown",
   "metadata": {},
   "source": [
    "# Send Data"
   ]
  },
  {
   "cell_type": "code",
   "execution_count": 37,
   "metadata": {},
   "outputs": [
    {
     "data": {
      "text/html": [
       "<div>\n",
       "<style scoped>\n",
       "    .dataframe tbody tr th:only-of-type {\n",
       "        vertical-align: middle;\n",
       "    }\n",
       "\n",
       "    .dataframe tbody tr th {\n",
       "        vertical-align: top;\n",
       "    }\n",
       "\n",
       "    .dataframe thead th {\n",
       "        text-align: right;\n",
       "    }\n",
       "</style>\n",
       "<table border=\"1\" class=\"dataframe\">\n",
       "  <thead>\n",
       "    <tr style=\"text-align: right;\">\n",
       "      <th></th>\n",
       "      <th>Avg Tele Speaker Notes Near</th>\n",
       "      <th>Avg Tele Speaker Notes Mid</th>\n",
       "      <th>Avg Tele Speaker Notes Far</th>\n",
       "      <th>Avg Amped Speaker Notes Near</th>\n",
       "      <th>Avg Amped Speaker Notes Mid</th>\n",
       "      <th>Avg Amped Speaker Notes Far</th>\n",
       "      <th>Avg Tele Amp Notes</th>\n",
       "      <th>Avg Auto Speaker Notes Near</th>\n",
       "      <th>Avg Auto Speaker Notes Mid</th>\n",
       "      <th>Avg Auto Speaker Notes Far</th>\n",
       "      <th>Avg Auto Amp Notes</th>\n",
       "      <th>Avg Trap Notes</th>\n",
       "      <th>Percent of Successful Climbs</th>\n",
       "      <th>Percent of Times Robot Left Starting Zone During Autos</th>\n",
       "    </tr>\n",
       "    <tr>\n",
       "      <th>metadata.robotTeam</th>\n",
       "      <th></th>\n",
       "      <th></th>\n",
       "      <th></th>\n",
       "      <th></th>\n",
       "      <th></th>\n",
       "      <th></th>\n",
       "      <th></th>\n",
       "      <th></th>\n",
       "      <th></th>\n",
       "      <th></th>\n",
       "      <th></th>\n",
       "      <th></th>\n",
       "      <th></th>\n",
       "      <th></th>\n",
       "    </tr>\n",
       "  </thead>\n",
       "  <tbody>\n",
       "    <tr>\n",
       "      <th>47</th>\n",
       "      <td>0.500000</td>\n",
       "      <td>1.000000</td>\n",
       "      <td>2.000000</td>\n",
       "      <td>2.000000</td>\n",
       "      <td>2.000000</td>\n",
       "      <td>2.000</td>\n",
       "      <td>3.000000</td>\n",
       "      <td>3.000000</td>\n",
       "      <td>2.000000</td>\n",
       "      <td>2.500000</td>\n",
       "      <td>1.000000</td>\n",
       "      <td>0.500000</td>\n",
       "      <td>0</td>\n",
       "      <td>0.000000</td>\n",
       "    </tr>\n",
       "    <tr>\n",
       "      <th>83</th>\n",
       "      <td>3.000000</td>\n",
       "      <td>0.666667</td>\n",
       "      <td>3.000000</td>\n",
       "      <td>2.000000</td>\n",
       "      <td>2.000000</td>\n",
       "      <td>2.000</td>\n",
       "      <td>3.333333</td>\n",
       "      <td>1.000000</td>\n",
       "      <td>1.333333</td>\n",
       "      <td>1.333333</td>\n",
       "      <td>3.333333</td>\n",
       "      <td>0.666667</td>\n",
       "      <td>0.666667</td>\n",
       "      <td>0.000000</td>\n",
       "    </tr>\n",
       "    <tr>\n",
       "      <th>105</th>\n",
       "      <td>2.142857</td>\n",
       "      <td>2.142857</td>\n",
       "      <td>3.142857</td>\n",
       "      <td>1.857143</td>\n",
       "      <td>1.571429</td>\n",
       "      <td>1.000</td>\n",
       "      <td>2.000000</td>\n",
       "      <td>1.571429</td>\n",
       "      <td>1.857143</td>\n",
       "      <td>2.285714</td>\n",
       "      <td>2.571429</td>\n",
       "      <td>0.428571</td>\n",
       "      <td>0.5</td>\n",
       "      <td>0.285714</td>\n",
       "    </tr>\n",
       "    <tr>\n",
       "      <th>157</th>\n",
       "      <td>4.000000</td>\n",
       "      <td>4.000000</td>\n",
       "      <td>3.000000</td>\n",
       "      <td>4.000000</td>\n",
       "      <td>3.000000</td>\n",
       "      <td>4.000</td>\n",
       "      <td>0.000000</td>\n",
       "      <td>3.000000</td>\n",
       "      <td>3.000000</td>\n",
       "      <td>3.000000</td>\n",
       "      <td>1.000000</td>\n",
       "      <td>1.000000</td>\n",
       "      <td>0</td>\n",
       "      <td>1.000000</td>\n",
       "    </tr>\n",
       "    <tr>\n",
       "      <th>173</th>\n",
       "      <td>2.000000</td>\n",
       "      <td>1.000000</td>\n",
       "      <td>3.000000</td>\n",
       "      <td>0.000000</td>\n",
       "      <td>2.000000</td>\n",
       "      <td>3.000</td>\n",
       "      <td>2.000000</td>\n",
       "      <td>3.000000</td>\n",
       "      <td>2.000000</td>\n",
       "      <td>2.000000</td>\n",
       "      <td>4.000000</td>\n",
       "      <td>1.000000</td>\n",
       "      <td>0</td>\n",
       "      <td>0.000000</td>\n",
       "    </tr>\n",
       "    <tr>\n",
       "      <th>...</th>\n",
       "      <td>...</td>\n",
       "      <td>...</td>\n",
       "      <td>...</td>\n",
       "      <td>...</td>\n",
       "      <td>...</td>\n",
       "      <td>...</td>\n",
       "      <td>...</td>\n",
       "      <td>...</td>\n",
       "      <td>...</td>\n",
       "      <td>...</td>\n",
       "      <td>...</td>\n",
       "      <td>...</td>\n",
       "      <td>...</td>\n",
       "      <td>...</td>\n",
       "    </tr>\n",
       "    <tr>\n",
       "      <th>9451</th>\n",
       "      <td>2.125000</td>\n",
       "      <td>1.250000</td>\n",
       "      <td>2.625000</td>\n",
       "      <td>1.875000</td>\n",
       "      <td>1.125000</td>\n",
       "      <td>1.375</td>\n",
       "      <td>2.375000</td>\n",
       "      <td>1.125000</td>\n",
       "      <td>2.625000</td>\n",
       "      <td>2.000000</td>\n",
       "      <td>1.875000</td>\n",
       "      <td>0.375000</td>\n",
       "      <td>0.8</td>\n",
       "      <td>0.500000</td>\n",
       "    </tr>\n",
       "    <tr>\n",
       "      <th>9530</th>\n",
       "      <td>2.000000</td>\n",
       "      <td>2.666667</td>\n",
       "      <td>1.666667</td>\n",
       "      <td>3.000000</td>\n",
       "      <td>3.000000</td>\n",
       "      <td>2.500</td>\n",
       "      <td>1.000000</td>\n",
       "      <td>2.666667</td>\n",
       "      <td>1.833333</td>\n",
       "      <td>1.666667</td>\n",
       "      <td>1.833333</td>\n",
       "      <td>0.333333</td>\n",
       "      <td>0.833333</td>\n",
       "      <td>0.333333</td>\n",
       "    </tr>\n",
       "    <tr>\n",
       "      <th>9678</th>\n",
       "      <td>0.500000</td>\n",
       "      <td>2.000000</td>\n",
       "      <td>3.000000</td>\n",
       "      <td>1.500000</td>\n",
       "      <td>1.500000</td>\n",
       "      <td>3.000</td>\n",
       "      <td>2.500000</td>\n",
       "      <td>1.500000</td>\n",
       "      <td>2.500000</td>\n",
       "      <td>3.000000</td>\n",
       "      <td>1.000000</td>\n",
       "      <td>0.500000</td>\n",
       "      <td>1.0</td>\n",
       "      <td>0.500000</td>\n",
       "    </tr>\n",
       "    <tr>\n",
       "      <th>9755</th>\n",
       "      <td>1.000000</td>\n",
       "      <td>1.000000</td>\n",
       "      <td>2.000000</td>\n",
       "      <td>0.000000</td>\n",
       "      <td>1.000000</td>\n",
       "      <td>0.000</td>\n",
       "      <td>4.000000</td>\n",
       "      <td>2.000000</td>\n",
       "      <td>0.000000</td>\n",
       "      <td>0.000000</td>\n",
       "      <td>1.000000</td>\n",
       "      <td>1.000000</td>\n",
       "      <td>0</td>\n",
       "      <td>0.000000</td>\n",
       "    </tr>\n",
       "    <tr>\n",
       "      <th>9830</th>\n",
       "      <td>2.000000</td>\n",
       "      <td>1.000000</td>\n",
       "      <td>4.000000</td>\n",
       "      <td>3.000000</td>\n",
       "      <td>3.000000</td>\n",
       "      <td>4.000</td>\n",
       "      <td>2.000000</td>\n",
       "      <td>3.000000</td>\n",
       "      <td>1.000000</td>\n",
       "      <td>3.000000</td>\n",
       "      <td>3.000000</td>\n",
       "      <td>0.000000</td>\n",
       "      <td>0</td>\n",
       "      <td>1.000000</td>\n",
       "    </tr>\n",
       "  </tbody>\n",
       "</table>\n",
       "<p>92 rows × 14 columns</p>\n",
       "</div>"
      ],
      "text/plain": [
       "                    Avg Tele Speaker Notes Near  Avg Tele Speaker Notes Mid  \\\n",
       "metadata.robotTeam                                                            \n",
       "47                                     0.500000                    1.000000   \n",
       "83                                     3.000000                    0.666667   \n",
       "105                                    2.142857                    2.142857   \n",
       "157                                    4.000000                    4.000000   \n",
       "173                                    2.000000                    1.000000   \n",
       "...                                         ...                         ...   \n",
       "9451                                   2.125000                    1.250000   \n",
       "9530                                   2.000000                    2.666667   \n",
       "9678                                   0.500000                    2.000000   \n",
       "9755                                   1.000000                    1.000000   \n",
       "9830                                   2.000000                    1.000000   \n",
       "\n",
       "                    Avg Tele Speaker Notes Far  Avg Amped Speaker Notes Near  \\\n",
       "metadata.robotTeam                                                             \n",
       "47                                    2.000000                      2.000000   \n",
       "83                                    3.000000                      2.000000   \n",
       "105                                   3.142857                      1.857143   \n",
       "157                                   3.000000                      4.000000   \n",
       "173                                   3.000000                      0.000000   \n",
       "...                                        ...                           ...   \n",
       "9451                                  2.625000                      1.875000   \n",
       "9530                                  1.666667                      3.000000   \n",
       "9678                                  3.000000                      1.500000   \n",
       "9755                                  2.000000                      0.000000   \n",
       "9830                                  4.000000                      3.000000   \n",
       "\n",
       "                    Avg Amped Speaker Notes Mid  Avg Amped Speaker Notes Far  \\\n",
       "metadata.robotTeam                                                             \n",
       "47                                     2.000000                        2.000   \n",
       "83                                     2.000000                        2.000   \n",
       "105                                    1.571429                        1.000   \n",
       "157                                    3.000000                        4.000   \n",
       "173                                    2.000000                        3.000   \n",
       "...                                         ...                          ...   \n",
       "9451                                   1.125000                        1.375   \n",
       "9530                                   3.000000                        2.500   \n",
       "9678                                   1.500000                        3.000   \n",
       "9755                                   1.000000                        0.000   \n",
       "9830                                   3.000000                        4.000   \n",
       "\n",
       "                    Avg Tele Amp Notes  Avg Auto Speaker Notes Near  \\\n",
       "metadata.robotTeam                                                    \n",
       "47                            3.000000                     3.000000   \n",
       "83                            3.333333                     1.000000   \n",
       "105                           2.000000                     1.571429   \n",
       "157                           0.000000                     3.000000   \n",
       "173                           2.000000                     3.000000   \n",
       "...                                ...                          ...   \n",
       "9451                          2.375000                     1.125000   \n",
       "9530                          1.000000                     2.666667   \n",
       "9678                          2.500000                     1.500000   \n",
       "9755                          4.000000                     2.000000   \n",
       "9830                          2.000000                     3.000000   \n",
       "\n",
       "                    Avg Auto Speaker Notes Mid  Avg Auto Speaker Notes Far  \\\n",
       "metadata.robotTeam                                                           \n",
       "47                                    2.000000                    2.500000   \n",
       "83                                    1.333333                    1.333333   \n",
       "105                                   1.857143                    2.285714   \n",
       "157                                   3.000000                    3.000000   \n",
       "173                                   2.000000                    2.000000   \n",
       "...                                        ...                         ...   \n",
       "9451                                  2.625000                    2.000000   \n",
       "9530                                  1.833333                    1.666667   \n",
       "9678                                  2.500000                    3.000000   \n",
       "9755                                  0.000000                    0.000000   \n",
       "9830                                  1.000000                    3.000000   \n",
       "\n",
       "                    Avg Auto Amp Notes  Avg Trap Notes  \\\n",
       "metadata.robotTeam                                       \n",
       "47                            1.000000        0.500000   \n",
       "83                            3.333333        0.666667   \n",
       "105                           2.571429        0.428571   \n",
       "157                           1.000000        1.000000   \n",
       "173                           4.000000        1.000000   \n",
       "...                                ...             ...   \n",
       "9451                          1.875000        0.375000   \n",
       "9530                          1.833333        0.333333   \n",
       "9678                          1.000000        0.500000   \n",
       "9755                          1.000000        1.000000   \n",
       "9830                          3.000000        0.000000   \n",
       "\n",
       "                   Percent of Successful Climbs  \\\n",
       "metadata.robotTeam                                \n",
       "47                                            0   \n",
       "83                                     0.666667   \n",
       "105                                         0.5   \n",
       "157                                           0   \n",
       "173                                           0   \n",
       "...                                         ...   \n",
       "9451                                        0.8   \n",
       "9530                                   0.833333   \n",
       "9678                                        1.0   \n",
       "9755                                          0   \n",
       "9830                                          0   \n",
       "\n",
       "                    Percent of Times Robot Left Starting Zone During Autos  \n",
       "metadata.robotTeam                                                          \n",
       "47                                                           0.000000       \n",
       "83                                                           0.000000       \n",
       "105                                                          0.285714       \n",
       "157                                                          1.000000       \n",
       "173                                                          0.000000       \n",
       "...                                                               ...       \n",
       "9451                                                         0.500000       \n",
       "9530                                                         0.333333       \n",
       "9678                                                         0.500000       \n",
       "9755                                                         0.000000       \n",
       "9830                                                         1.000000       \n",
       "\n",
       "[92 rows x 14 columns]"
      ]
     },
     "execution_count": 37,
     "metadata": {},
     "output_type": "execute_result"
    }
   ],
   "source": [
    "output_df\n",
    "#df.to_json(\"../server/static/analyzed_data.json\", orient='records', default_handler=str)"
   ]
  }
 ],
 "metadata": {
  "kernelspec": {
   "display_name": "Python 3",
   "language": "python",
   "name": "python3"
  },
  "language_info": {
   "codemirror_mode": {
    "name": "ipython",
    "version": 3
   },
   "file_extension": ".py",
   "mimetype": "text/x-python",
   "name": "python",
   "nbconvert_exporter": "python",
   "pygments_lexer": "ipython3",
   "version": "3.12.1"
  }
 },
 "nbformat": 4,
 "nbformat_minor": 2
}
