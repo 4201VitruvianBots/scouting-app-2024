{
 "cells": [
  {
   "cell_type": "markdown",
   "metadata": {},
   "source": [
    "# SETUP"
   ]
  },
  {
   "cell_type": "markdown",
   "metadata": {},
   "source": [
    "## Import Libraries"
   ]
  },
  {
   "cell_type": "code",
   "execution_count": null,
   "metadata": {},
   "outputs": [],
   "source": [
    "from pymongo import MongoClient\n",
    "import pandas as pd"
   ]
  },
  {
   "cell_type": "markdown",
   "metadata": {},
   "source": [
    "## Read MongoDB"
   ]
  },
  {
   "cell_type": "code",
   "execution_count": null,
   "metadata": {},
   "outputs": [],
   "source": [
    "client = MongoClient()\n",
    "db = client[\"test\"]"
   ]
  },
  {
   "cell_type": "markdown",
   "metadata": {},
   "source": [
    "# MATCHAPPS"
   ]
  },
  {
   "cell_type": "markdown",
   "metadata": {},
   "source": [
    "## Matchapps Initalization"
   ]
  },
  {
   "cell_type": "markdown",
   "metadata": {},
   "source": [
    "### Create Matchapps DataFrame"
   ]
  },
  {
   "cell_type": "code",
   "execution_count": null,
   "metadata": {},
   "outputs": [],
   "source": [
    "matchapps_collection = db[\"matchapps\"]\n",
    "matchapps_df = matchapps_collection.find()"
   ]
  },
  {
   "cell_type": "markdown",
   "metadata": {},
   "source": [
    "### Flatten, reorganize, and clean Data"
   ]
  },
  {
   "cell_type": "code",
   "execution_count": null,
   "metadata": {},
   "outputs": [],
   "source": [
    "matchapps_df = pd.json_normalize(matchapps_df)\n",
    "\n",
    "matchapps_column_order = [\n",
    "    \"_id\",\n",
    "    \"metadata.matchNumber\",\n",
    "    \"metadata.scouterName\",\n",
    "    \"metadata.robotTeam\",\n",
    "    \"metadata.robotPosition\",\n",
    "    \"leftStartingZone\",\n",
    "    \"climb\",\n",
    "    \"trapNotes\",\n",
    "    \"autoNotes.near\",\n",
    "    \"autoNotes.mid\",\n",
    "    \"autoNotes.far\",\n",
    "    \"autoNotes.amp\",\n",
    "    \"autoNotes.miss\",\n",
    "    \"teleNotes.near\",\n",
    "    \"teleNotes.mid\",\n",
    "    \"teleNotes.far\",\n",
    "    \"teleNotes.amp\",\n",
    "    \"teleNotes.miss\"   \n",
    "]\n",
    "\n",
    "matchapps_df = matchapps_df[matchapps_column_order]\n",
    "matchapps_df.sort_values(\"metadata.matchNumber\", inplace=True)\n",
    "matchapps_df"
   ]
  },
  {
   "cell_type": "markdown",
   "metadata": {},
   "source": [
    "### Initialize Output DF"
   ]
  },
  {
   "cell_type": "code",
   "execution_count": null,
   "metadata": {},
   "outputs": [],
   "source": [
    "matchapps_output_df = pd.DataFrame()"
   ]
  },
  {
   "cell_type": "markdown",
   "metadata": {},
   "source": [
    "## Matchapps Function and Variable Initializations"
   ]
  },
  {
   "cell_type": "markdown",
   "metadata": {},
   "source": [
    "### Check Alliance Harmonization Function Definition"
   ]
  },
  {
   "cell_type": "code",
   "execution_count": null,
   "metadata": {},
   "outputs": [],
   "source": [
    "def check_team_harmonization_in_alliance(t1, t2, t3):\n",
    "    t1_status, t2_status, t3_status = False, False, False\n",
    "    if t1 not in [\"failed\", \"none\", \"park\"]:\n",
    "        if t1 == t2:\n",
    "            t1_status = True\n",
    "            t2_status = True\n",
    "        if t1 == t3:\n",
    "            t1_status = True\n",
    "            t3_status = True\n",
    "    elif t2 not in [\"failed\", \"none\", \"park\"]:\n",
    "        if t2 == t3:\n",
    "            t2_status = True\n",
    "            t3_status = True\n",
    "    return t1_status, t2_status, t3_status"
   ]
  },
  {
   "cell_type": "markdown",
   "metadata": {},
   "source": [
    "### Complete List of all Teams in DF"
   ]
  },
  {
   "cell_type": "code",
   "execution_count": null,
   "metadata": {},
   "outputs": [],
   "source": [
    "team_list = matchapps_df[\"metadata.robotTeam\"].unique().tolist()"
   ]
  },
  {
   "cell_type": "markdown",
   "metadata": {},
   "source": [
    "### Complete Range of All Matches"
   ]
  },
  {
   "cell_type": "code",
   "execution_count": null,
   "metadata": {},
   "outputs": [],
   "source": [
    "match_range = matchapps_df[\"metadata.matchNumber\"].max()"
   ]
  },
  {
   "cell_type": "markdown",
   "metadata": {},
   "source": [
    "## Matchapps Data Analysis"
   ]
  },
  {
   "cell_type": "markdown",
   "metadata": {},
   "source": [
    "### Auto Data Analysis Calculations"
   ]
  },
  {
   "cell_type": "markdown",
   "metadata": {},
   "source": [
    "#### Auto Speaker Notes Average (near, mid, far)"
   ]
  },
  {
   "cell_type": "code",
   "execution_count": null,
   "metadata": {},
   "outputs": [],
   "source": [
    "matchapps_output_df[\"Auto Speaker Notes Near Avg\"] = matchapps_df.groupby(\"metadata.robotTeam\")[\"autoNotes.near\"].mean()\n",
    "matchapps_output_df[\"Auto Speaker Notes Mid Avg\"] = matchapps_df.groupby(\"metadata.robotTeam\")[\"autoNotes.mid\"].mean()\n",
    "matchapps_output_df[\"Auto Speaker Notes Far Avg\"] = matchapps_df.groupby(\"metadata.robotTeam\")[\"autoNotes.far\"].mean()"
   ]
  },
  {
   "cell_type": "markdown",
   "metadata": {},
   "source": [
    "#### Auto Amp Notes Average"
   ]
  },
  {
   "cell_type": "code",
   "execution_count": null,
   "metadata": {},
   "outputs": [],
   "source": [
    "matchapps_output_df[\"Auto Notes Amp Avg\"] = matchapps_df.groupby(\"metadata.robotTeam\")[\"autoNotes.amp\"].mean()"
   ]
  },
  {
   "cell_type": "markdown",
   "metadata": {},
   "source": [
    "#### Auto Percent of Miss Notes"
   ]
  },
  {
   "cell_type": "code",
   "execution_count": null,
   "metadata": {},
   "outputs": [],
   "source": [
    "matchapps_output_df[\"Auto Percent of Missed Notes\"] = None\n",
    "for team in team_list:\n",
    "    missed_notes = matchapps_df[matchapps_df[\"metadata.robotTeam\"] == team][\"autoNotes.miss\"].sum()\n",
    "    total_notes = matchapps_df[matchapps_df[\"metadata.robotTeam\"] == team][\"autoNotes.near\"].sum()\n",
    "    + matchapps_df[matchapps_df[\"metadata.robotTeam\"] == team][\"autoNotes.mid\"].sum()\n",
    "    + matchapps_df[matchapps_df[\"metadata.robotTeam\"] == team][\"autoNotes.far\"].sum()\n",
    "    + matchapps_df[matchapps_df[\"metadata.robotTeam\"] == team][\"autoNotes.amp\"].sum()\n",
    "    + missed_notes\n",
    "    matchapps_output_df.at[team, \"Auto Percent of Missed Notes\"] = missed_notes / total_notes"
   ]
  },
  {
   "cell_type": "markdown",
   "metadata": {},
   "source": [
    "#### Auto All Notes Average"
   ]
  },
  {
   "cell_type": "code",
   "execution_count": null,
   "metadata": {},
   "outputs": [],
   "source": [
    "matchapps_output_df[\"Auto Notes Avg\"] = (matchapps_output_df[\"Auto Notes Amp Avg\"] +\n",
    "                               matchapps_output_df[\"Auto Speaker Notes Near Avg\"] +\n",
    "                               matchapps_output_df[\"Auto Speaker Notes Mid Avg\"] +\n",
    "                               matchapps_output_df[\"Auto Speaker Notes Far Avg\"]) / 4"
   ]
  },
  {
   "cell_type": "markdown",
   "metadata": {},
   "source": [
    "### Teleop Data Analysis Calculations"
   ]
  },
  {
   "cell_type": "markdown",
   "metadata": {},
   "source": [
    "#### Teleop Speaker Notes Average (near, mid, far)"
   ]
  },
  {
   "cell_type": "code",
   "execution_count": null,
   "metadata": {},
   "outputs": [],
   "source": [
    "matchapps_output_df[\"Tele Speaker Notes Near Avg\"] = matchapps_df.groupby(\"metadata.robotTeam\")[\"teleNotes.near\"].mean()\n",
    "matchapps_output_df[\"Tele Speaker Notes Mid Avg\"] = matchapps_df.groupby(\"metadata.robotTeam\")[\"teleNotes.mid\"].mean()\n",
    "matchapps_output_df[\"Tele Speaker Notes Far Avg\"] = matchapps_df.groupby(\"metadata.robotTeam\")[\"teleNotes.far\"].mean()"
   ]
  },
  {
   "cell_type": "markdown",
   "metadata": {},
   "source": [
    "#### Teleop Amp Notes Average"
   ]
  },
  {
   "cell_type": "code",
   "execution_count": null,
   "metadata": {},
   "outputs": [],
   "source": [
    "matchapps_output_df[\"Tele Notes Amp Avg\"] = matchapps_df.groupby(\"metadata.robotTeam\")[\"teleNotes.amp\"].mean()"
   ]
  },
  {
   "cell_type": "markdown",
   "metadata": {},
   "source": [
    "#### Teleop All Notes Average"
   ]
  },
  {
   "cell_type": "code",
   "execution_count": null,
   "metadata": {},
   "outputs": [],
   "source": [
    "matchapps_output_df[\"Tele Notes Avg\"] = (matchapps_output_df[\"Tele Notes Amp Avg\"] +\n",
    "                               matchapps_output_df[\"Tele Speaker Notes Near Avg\"] +\n",
    "                               matchapps_output_df[\"Tele Speaker Notes Mid Avg\"] +\n",
    "                               matchapps_output_df[\"Tele Speaker Notes Far Avg\"]) / 4"
   ]
  },
  {
   "cell_type": "markdown",
   "metadata": {},
   "source": [
    "#### Teleop Percent of Missed Notes"
   ]
  },
  {
   "cell_type": "code",
   "execution_count": null,
   "metadata": {},
   "outputs": [],
   "source": [
    "matchapps_output_df[\"Tele Percent of Missed Notes\"] = None\n",
    "for team in team_list:\n",
    "    missed_notes = matchapps_df[matchapps_df[\"metadata.robotTeam\"] == team][\"teleNotes.miss\"].sum()\n",
    "    total_notes = matchapps_df[matchapps_df[\"metadata.robotTeam\"] == team][\"teleNotes.near\"].sum()\n",
    "    + matchapps_df[matchapps_df[\"metadata.robotTeam\"] == team][\"teleNotes.mid\"].sum()\n",
    "    + matchapps_df[matchapps_df[\"metadata.robotTeam\"] == team][\"teleNotes.far\"].sum()\n",
    "    + matchapps_df[matchapps_df[\"metadata.robotTeam\"] == team][\"teleNotes.amp\"].sum()\n",
    "    + missed_notes\n",
    "    matchapps_output_df.at[team, \"Percent of Missed Notes\"] = missed_notes / total_notes"
   ]
  },
  {
   "cell_type": "markdown",
   "metadata": {},
   "source": [
    "### Other Data Analysis Calculations"
   ]
  },
  {
   "cell_type": "markdown",
   "metadata": {},
   "source": [
    "#### Trap Notes"
   ]
  },
  {
   "cell_type": "code",
   "execution_count": null,
   "metadata": {},
   "outputs": [],
   "source": [
    "matchapps_output_df[\"Trap Notes Avg\"] = matchapps_df.groupby(\"metadata.robotTeam\")[\"trapNotes\"].mean()"
   ]
  },
  {
   "cell_type": "markdown",
   "metadata": {},
   "source": [
    "#### Percent of Successful Climbs and Successful Climbs Total"
   ]
  },
  {
   "cell_type": "code",
   "execution_count": null,
   "metadata": {},
   "outputs": [],
   "source": [
    "matchapps_output_df[\"Percent of Successful Climbs\"] = None\n",
    "matchapps_output_df[\"Successful Climbs Total\"] = None\n",
    "\n",
    "for team in team_list:\n",
    "    climb_list = matchapps_df.loc[matchapps_df[\"metadata.robotTeam\"] == team, \"climb\"].tolist()\n",
    "    total_climbs = 0\n",
    "    successful_climbs = 0\n",
    "    for climb_type in climb_list:\n",
    "        if climb_type == \"failed\":\n",
    "            total_climbs += 1\n",
    "        elif climb_type == \"amp\" or climb_type == \"source\" or climb_type == \"center\":\n",
    "            total_climbs += 1\n",
    "            successful_climbs += 1\n",
    "    if total_climbs == 0:\n",
    "        matchapps_output_df.at[team, \"Percent of Successful Climbs\"] = 0\n",
    "        \n",
    "    else:\n",
    "        matchapps_output_df.at[team, \"Percent of Successful Climbs\"] = successful_climbs / total_climbs\n",
    "    \n",
    "    matchapps_output_df.at[team, \"Successful Climbs Total\"] = successful_climbs"
   ]
  },
  {
   "cell_type": "markdown",
   "metadata": {},
   "source": [
    "#### Harmonized Climbs Total"
   ]
  },
  {
   "cell_type": "code",
   "execution_count": null,
   "metadata": {},
   "outputs": [],
   "source": [
    "matchapps_output_df[\"Harmonized Climbs Total\"] = 0\n",
    "\n",
    "for match in range(1, match_range + 1):\n",
    "    match_number_df = matchapps_df['metadata.matchNumber'] == match\n",
    "    robots = matchapps_df[match_number_df]\n",
    "    robots.sort_values(\"metadata.robotPosition\", inplace=True)\n",
    "    \n",
    "    teams_harmonized = []\n",
    "    \n",
    "    for i in range(6):\n",
    "        teams_harmonized.append([robots.iloc[i][\"metadata.robotTeam\"], robots.iloc[i][\"climb\"], False])\n",
    "\n",
    "    teams_harmonized[0][2], teams_harmonized[1][2], teams_harmonized[2][2] = check_team_harmonization_in_alliance(teams_harmonized[0][1], teams_harmonized[1][1], teams_harmonized[2][1])\n",
    "    teams_harmonized[3][2], teams_harmonized[4][2], teams_harmonized[5][2] = check_team_harmonization_in_alliance(teams_harmonized[3][1], teams_harmonized[4][1], teams_harmonized[5][1])\n",
    "\n",
    "    for checked_team in teams_harmonized:\n",
    "        if checked_team[2]:\n",
    "            matchapps_output_df.at[checked_team[0], \"Harmonized Climbs Total\"] += 1"
   ]
  },
  {
   "cell_type": "markdown",
   "metadata": {},
   "source": [
    "#### Percent of Harmonized Climbs out of Successful Climbs"
   ]
  },
  {
   "cell_type": "code",
   "execution_count": null,
   "metadata": {},
   "outputs": [],
   "source": [
    "matchapps_output_df[\"Percent of Harmonized Climbs out of Successful Climbs\"] = 0\n",
    "\n",
    "for team in team_list:\n",
    "    matchapps_output_df.at[team, \"Percent of Harmonized Climbs out of Successful Climbs\"] = matchapps_output_df.at[team, \"Harmonized Climbs Total\"] / matchapps_output_df.at[team, \"Successful Climbs Total\"]"
   ]
  },
  {
   "cell_type": "markdown",
   "metadata": {},
   "source": [
    "#### Percent of Times Robot Left Starting Zone During Autos"
   ]
  },
  {
   "cell_type": "code",
   "execution_count": null,
   "metadata": {},
   "outputs": [],
   "source": [
    "matchapps_output_df[\"Percent of Times Robot Left Starting Zone During Autos\"] = matchapps_df.groupby(\"metadata.robotTeam\")[\"leftStartingZone\"].mean()"
   ]
  },
  {
   "cell_type": "markdown",
   "metadata": {},
   "source": [
    "### Custom Metric Data Analysis Calculations"
   ]
  },
  {
   "cell_type": "markdown",
   "metadata": {},
   "source": [
    "#### Endgame Custom Metric"
   ]
  },
  {
   "cell_type": "code",
   "execution_count": null,
   "metadata": {},
   "outputs": [],
   "source": [
    "matchapps_output_df[\"Endgame Custom Metric\"] = ((matchapps_output_df[\"Percent of Successful Climbs\"] * 5) ** 2 + (matchapps_output_df[\"Percent of Harmonized Climbs out of Successful Climbs\"] * 5) ** 2 + (matchapps_output_df[\"Trap Notes Avg\"] * 5) ** 2) / 3\n",
    "matchapps_output_df[\"Endgame Custom Metric\"] = matchapps_output_df[\"Endgame Custom Metric\"].apply(lambda x: round(x, 1))"
   ]
  },
  {
   "cell_type": "markdown",
   "metadata": {},
   "source": [
    "## Matchapps Finalize and Send Data"
   ]
  },
  {
   "cell_type": "markdown",
   "metadata": {},
   "source": [
    "### Send Data"
   ]
  },
  {
   "cell_type": "code",
   "execution_count": null,
   "metadata": {},
   "outputs": [],
   "source": [
    "matchapps_output_df.to_json(\"../server/static/analyzed_data.json\", orient='records', default_handler=str)"
   ]
  },
  {
   "cell_type": "markdown",
   "metadata": {},
   "source": [
    "# SUPERAPPS"
   ]
  },
  {
   "cell_type": "markdown",
   "metadata": {},
   "source": [
    "## Supperapps Initalization"
   ]
  },
  {
   "cell_type": "markdown",
   "metadata": {},
   "source": [
    "### Create Superapps DataFrame"
   ]
  },
  {
   "cell_type": "code",
   "execution_count": null,
   "metadata": {},
   "outputs": [],
   "source": [
    "superapps_collection = db[\"superapps\"]\n",
    "superapps_df = superapps_collection.find()"
   ]
  },
  {
   "cell_type": "markdown",
   "metadata": {},
   "source": [
    "### Flatten, reorganize, and clean Data"
   ]
  },
  {
   "cell_type": "code",
   "execution_count": null,
   "metadata": {},
   "outputs": [],
   "source": [
    "superapps_df = pd.json_normalize(superapps_df)\n",
    "superapps_df.sort_values(\"metadata.matchNumber\", inplace=True)\n",
    "superapps_df"
   ]
  },
  {
   "cell_type": "markdown",
   "metadata": {},
   "source": [
    "### Initialize Output DF"
   ]
  },
  {
   "cell_type": "code",
   "execution_count": null,
   "metadata": {},
   "outputs": [],
   "source": [
    "superapps_output_df = pd.DataFrame()"
   ]
  },
  {
   "cell_type": "markdown",
   "metadata": {},
   "source": [
    "## Superapps Data Analysis"
   ]
  },
  {
   "cell_type": "markdown",
   "metadata": {},
   "source": [
    "### Fouls"
   ]
  },
  {
   "cell_type": "code",
   "execution_count": null,
   "metadata": {},
   "outputs": [],
   "source": [
    "superapps_output_df[\"Foul - In Bot\"] = superapps_df.groupby(\"metadata.robotTeam\")[\"fouls.inBot\"].mean()\n",
    "superapps_output_df[\"Foul - Damage Bot\"] = superapps_df.groupby(\"metadata.robotTeam\")[\"fouls.damageBot\"].mean()\n",
    "superapps_output_df[\"Foul - Tip Entangle Bot\"] = superapps_df.groupby(\"metadata.robotTeam\")[\"fouls.tipEntangBot\"].mean()\n",
    "superapps_output_df[\"Foul - Pin Bot\"] = superapps_df.groupby(\"metadata.robotTeam\")[\"fouls.pinBot\"].mean()\n",
    "superapps_output_df[\"Foul - Podium\"] = superapps_df.groupby(\"metadata.robotTeam\")[\"fouls.podiumFoul\"].mean()\n",
    "superapps_output_df[\"Foul - Zone\"] = superapps_df.groupby(\"metadata.robotTeam\")[\"fouls.zoneFoul\"].mean()\n",
    "superapps_output_df[\"Foul - Stage\"] = superapps_df.groupby(\"metadata.robotTeam\")[\"fouls.stageFoul\"].mean()\n",
    "superapps_output_df[\"Foul - Over Exc Chute\"] = superapps_df.groupby(\"metadata.robotTeam\")[\"fouls.overExtChute\"].mean()\n",
    "\n",
    "superapps_output_df[\"Average Fouls per Match\"] = None\n",
    "\n",
    "for team in team_list:\n",
    "    superapps_output_df.at[team, \"Average Fouls per Match\"] = superapps_output_df.at[team, \"Foul - In Bot\"] + superapps_output_df.at[team, \"Foul - Damage Bot\"] + superapps_output_df.at[team, \"Foul - Tip Entangle Bot\"] + superapps_output_df.at[team, \"Foul - Pin Bot\"] + superapps_output_df.at[team, \"Foul - Podium\"] + superapps_output_df.at[team, \"Foul - Zone\"] + superapps_output_df.at[team, \"Foul - Stage\"] + superapps_output_df.at[team, \"Foul - Over Exc Chute\"]"
   ]
  },
  {
   "cell_type": "markdown",
   "metadata": {},
   "source": [
    "### Defense"
   ]
  },
  {
   "cell_type": "code",
   "execution_count": null,
   "metadata": {},
   "outputs": [],
   "source": [
    "superapps_output_df[\"Full Defense Total\"] = superapps_df[superapps_df[\"defense\"] == \"fullDef\"].groupby(\"metadata.robotTeam\").size()\n",
    "superapps_output_df[\"Some Defense Total\"] = superapps_df[superapps_df[\"defense\"] == \"someDef\"].groupby(\"metadata.robotTeam\").size()\n",
    "superapps_output_df[\"No Defense Total\"] = superapps_df[superapps_df[\"defense\"] == \"noDef\"].groupby(\"metadata.robotTeam\").size()"
   ]
  },
  {
   "cell_type": "markdown",
   "metadata": {},
   "source": [
    "## Superapps Finalize and Send Data"
   ]
  },
  {
   "cell_type": "markdown",
   "metadata": {},
   "source": [
    "### Send Data"
   ]
  },
  {
   "cell_type": "code",
   "execution_count": null,
   "metadata": {},
   "outputs": [],
   "source": [
    "superapps_output_df.to_json(\"../server/static/analyzed_data.json\", orient='records', default_handler=str)"
   ]
  }
 ],
 "metadata": {
  "kernelspec": {
   "display_name": "Python 3",
   "language": "python",
   "name": "python3"
  },
  "language_info": {
   "codemirror_mode": {
    "name": "ipython",
    "version": 3
   },
   "file_extension": ".py",
   "mimetype": "text/x-python",
   "name": "python",
   "nbconvert_exporter": "python",
   "pygments_lexer": "ipython3",
   "version": "3.12.1"
  }
 },
 "nbformat": 4,
 "nbformat_minor": 2
}
