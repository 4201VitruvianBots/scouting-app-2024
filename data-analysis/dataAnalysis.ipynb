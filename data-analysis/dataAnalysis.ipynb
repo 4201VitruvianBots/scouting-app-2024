{
 "cells": [
  {
   "cell_type": "markdown",
   "metadata": {},
   "source": [
    "# SETUP"
   ]
  },
  {
   "cell_type": "markdown",
   "metadata": {},
   "source": [
    "## Import Libraries"
   ]
  },
  {
   "cell_type": "code",
   "execution_count": 209,
   "metadata": {},
   "outputs": [],
   "source": [
    "from pymongo import MongoClient\n",
    "import pandas as pd"
   ]
  },
  {
   "cell_type": "markdown",
   "metadata": {},
   "source": [
    "## Read MongoDB"
   ]
  },
  {
   "cell_type": "code",
   "execution_count": 210,
   "metadata": {},
   "outputs": [],
   "source": [
    "client = MongoClient()\n",
    "db = client[\"test\"]"
   ]
  },
  {
   "cell_type": "markdown",
   "metadata": {},
   "source": [
    "# MATCHAPPS"
   ]
  },
  {
   "cell_type": "markdown",
   "metadata": {},
   "source": [
    "## Matchapps Initalization"
   ]
  },
  {
   "cell_type": "markdown",
   "metadata": {},
   "source": [
    "### Create Matchapps DataFrame"
   ]
  },
  {
   "cell_type": "code",
   "execution_count": 211,
   "metadata": {},
   "outputs": [],
   "source": [
    "matchapps_collection = db[\"matchapps\"]\n",
    "matchapps_df = matchapps_collection.find()"
   ]
  },
  {
   "cell_type": "markdown",
   "metadata": {},
   "source": [
    "### Flatten, reorganize, and clean Data"
   ]
  },
  {
   "cell_type": "code",
   "execution_count": 212,
   "metadata": {},
   "outputs": [
    {
     "data": {
      "text/html": [
       "<div>\n",
       "<style scoped>\n",
       "    .dataframe tbody tr th:only-of-type {\n",
       "        vertical-align: middle;\n",
       "    }\n",
       "\n",
       "    .dataframe tbody tr th {\n",
       "        vertical-align: top;\n",
       "    }\n",
       "\n",
       "    .dataframe thead th {\n",
       "        text-align: right;\n",
       "    }\n",
       "</style>\n",
       "<table border=\"1\" class=\"dataframe\">\n",
       "  <thead>\n",
       "    <tr style=\"text-align: right;\">\n",
       "      <th></th>\n",
       "      <th>_id</th>\n",
       "      <th>metadata.matchNumber</th>\n",
       "      <th>metadata.scouterName</th>\n",
       "      <th>metadata.robotTeam</th>\n",
       "      <th>metadata.robotPosition</th>\n",
       "      <th>leftStartingZone</th>\n",
       "      <th>climb</th>\n",
       "      <th>trapNotes</th>\n",
       "      <th>autoNotes.near</th>\n",
       "      <th>autoNotes.mid</th>\n",
       "      <th>autoNotes.far</th>\n",
       "      <th>autoNotes.amp</th>\n",
       "      <th>autoNotes.miss</th>\n",
       "      <th>teleNotes.near</th>\n",
       "      <th>teleNotes.mid</th>\n",
       "      <th>teleNotes.far</th>\n",
       "      <th>teleNotes.amp</th>\n",
       "      <th>teleNotes.miss</th>\n",
       "    </tr>\n",
       "  </thead>\n",
       "  <tbody>\n",
       "    <tr>\n",
       "      <th>0</th>\n",
       "      <td>65e21a8090db904a4ca5e888</td>\n",
       "      <td>1</td>\n",
       "      <td>Jim</td>\n",
       "      <td>1496</td>\n",
       "      <td>red_1</td>\n",
       "      <td>False</td>\n",
       "      <td>park</td>\n",
       "      <td>0</td>\n",
       "      <td>8</td>\n",
       "      <td>2</td>\n",
       "      <td>5</td>\n",
       "      <td>3</td>\n",
       "      <td>3</td>\n",
       "      <td>2</td>\n",
       "      <td>7</td>\n",
       "      <td>3</td>\n",
       "      <td>2</td>\n",
       "      <td>8</td>\n",
       "    </tr>\n",
       "    <tr>\n",
       "      <th>1</th>\n",
       "      <td>65e21a8090db904a4ca5e88a</td>\n",
       "      <td>1</td>\n",
       "      <td>Jim</td>\n",
       "      <td>874</td>\n",
       "      <td>red_2</td>\n",
       "      <td>True</td>\n",
       "      <td>failed</td>\n",
       "      <td>0</td>\n",
       "      <td>9</td>\n",
       "      <td>4</td>\n",
       "      <td>1</td>\n",
       "      <td>5</td>\n",
       "      <td>7</td>\n",
       "      <td>8</td>\n",
       "      <td>2</td>\n",
       "      <td>1</td>\n",
       "      <td>9</td>\n",
       "      <td>9</td>\n",
       "    </tr>\n",
       "    <tr>\n",
       "      <th>2</th>\n",
       "      <td>65e21a8090db904a4ca5e88c</td>\n",
       "      <td>1</td>\n",
       "      <td>Jim</td>\n",
       "      <td>701</td>\n",
       "      <td>red_3</td>\n",
       "      <td>True</td>\n",
       "      <td>none</td>\n",
       "      <td>1</td>\n",
       "      <td>5</td>\n",
       "      <td>8</td>\n",
       "      <td>2</td>\n",
       "      <td>8</td>\n",
       "      <td>1</td>\n",
       "      <td>8</td>\n",
       "      <td>6</td>\n",
       "      <td>9</td>\n",
       "      <td>2</td>\n",
       "      <td>8</td>\n",
       "    </tr>\n",
       "    <tr>\n",
       "      <th>3</th>\n",
       "      <td>65e21a8090db904a4ca5e88e</td>\n",
       "      <td>1</td>\n",
       "      <td>Jim</td>\n",
       "      <td>8204</td>\n",
       "      <td>blue_1</td>\n",
       "      <td>False</td>\n",
       "      <td>failed</td>\n",
       "      <td>0</td>\n",
       "      <td>5</td>\n",
       "      <td>6</td>\n",
       "      <td>4</td>\n",
       "      <td>3</td>\n",
       "      <td>5</td>\n",
       "      <td>5</td>\n",
       "      <td>8</td>\n",
       "      <td>5</td>\n",
       "      <td>7</td>\n",
       "      <td>9</td>\n",
       "    </tr>\n",
       "    <tr>\n",
       "      <th>4</th>\n",
       "      <td>65e21a8090db904a4ca5e890</td>\n",
       "      <td>1</td>\n",
       "      <td>Jim</td>\n",
       "      <td>6921</td>\n",
       "      <td>blue_2</td>\n",
       "      <td>False</td>\n",
       "      <td>source</td>\n",
       "      <td>0</td>\n",
       "      <td>9</td>\n",
       "      <td>5</td>\n",
       "      <td>6</td>\n",
       "      <td>8</td>\n",
       "      <td>9</td>\n",
       "      <td>7</td>\n",
       "      <td>2</td>\n",
       "      <td>4</td>\n",
       "      <td>2</td>\n",
       "      <td>8</td>\n",
       "    </tr>\n",
       "    <tr>\n",
       "      <th>...</th>\n",
       "      <td>...</td>\n",
       "      <td>...</td>\n",
       "      <td>...</td>\n",
       "      <td>...</td>\n",
       "      <td>...</td>\n",
       "      <td>...</td>\n",
       "      <td>...</td>\n",
       "      <td>...</td>\n",
       "      <td>...</td>\n",
       "      <td>...</td>\n",
       "      <td>...</td>\n",
       "      <td>...</td>\n",
       "      <td>...</td>\n",
       "      <td>...</td>\n",
       "      <td>...</td>\n",
       "      <td>...</td>\n",
       "      <td>...</td>\n",
       "      <td>...</td>\n",
       "    </tr>\n",
       "    <tr>\n",
       "      <th>2390</th>\n",
       "      <td>65e21a8c90db904a4ca5fb34</td>\n",
       "      <td>399</td>\n",
       "      <td>Jim</td>\n",
       "      <td>9413</td>\n",
       "      <td>red_3</td>\n",
       "      <td>True</td>\n",
       "      <td>center</td>\n",
       "      <td>1</td>\n",
       "      <td>9</td>\n",
       "      <td>9</td>\n",
       "      <td>7</td>\n",
       "      <td>1</td>\n",
       "      <td>6</td>\n",
       "      <td>4</td>\n",
       "      <td>6</td>\n",
       "      <td>3</td>\n",
       "      <td>4</td>\n",
       "      <td>8</td>\n",
       "    </tr>\n",
       "    <tr>\n",
       "      <th>2392</th>\n",
       "      <td>65e21a8c90db904a4ca5fb38</td>\n",
       "      <td>399</td>\n",
       "      <td>Jim</td>\n",
       "      <td>9351</td>\n",
       "      <td>blue_2</td>\n",
       "      <td>True</td>\n",
       "      <td>amp</td>\n",
       "      <td>0</td>\n",
       "      <td>1</td>\n",
       "      <td>9</td>\n",
       "      <td>4</td>\n",
       "      <td>4</td>\n",
       "      <td>3</td>\n",
       "      <td>8</td>\n",
       "      <td>1</td>\n",
       "      <td>4</td>\n",
       "      <td>8</td>\n",
       "      <td>4</td>\n",
       "    </tr>\n",
       "    <tr>\n",
       "      <th>2388</th>\n",
       "      <td>65e21a8c90db904a4ca5fb30</td>\n",
       "      <td>399</td>\n",
       "      <td>Jim</td>\n",
       "      <td>7842</td>\n",
       "      <td>red_1</td>\n",
       "      <td>True</td>\n",
       "      <td>source</td>\n",
       "      <td>1</td>\n",
       "      <td>5</td>\n",
       "      <td>4</td>\n",
       "      <td>5</td>\n",
       "      <td>6</td>\n",
       "      <td>2</td>\n",
       "      <td>3</td>\n",
       "      <td>5</td>\n",
       "      <td>5</td>\n",
       "      <td>7</td>\n",
       "      <td>4</td>\n",
       "    </tr>\n",
       "    <tr>\n",
       "      <th>2389</th>\n",
       "      <td>65e21a8c90db904a4ca5fb32</td>\n",
       "      <td>399</td>\n",
       "      <td>Jim</td>\n",
       "      <td>331</td>\n",
       "      <td>red_2</td>\n",
       "      <td>True</td>\n",
       "      <td>failed</td>\n",
       "      <td>0</td>\n",
       "      <td>3</td>\n",
       "      <td>1</td>\n",
       "      <td>0</td>\n",
       "      <td>2</td>\n",
       "      <td>3</td>\n",
       "      <td>0</td>\n",
       "      <td>1</td>\n",
       "      <td>9</td>\n",
       "      <td>7</td>\n",
       "      <td>0</td>\n",
       "    </tr>\n",
       "    <tr>\n",
       "      <th>2393</th>\n",
       "      <td>65e21a8c90db904a4ca5fb3a</td>\n",
       "      <td>399</td>\n",
       "      <td>Jim</td>\n",
       "      <td>7842</td>\n",
       "      <td>blue_3</td>\n",
       "      <td>True</td>\n",
       "      <td>failed</td>\n",
       "      <td>0</td>\n",
       "      <td>1</td>\n",
       "      <td>0</td>\n",
       "      <td>4</td>\n",
       "      <td>5</td>\n",
       "      <td>0</td>\n",
       "      <td>0</td>\n",
       "      <td>8</td>\n",
       "      <td>6</td>\n",
       "      <td>9</td>\n",
       "      <td>8</td>\n",
       "    </tr>\n",
       "  </tbody>\n",
       "</table>\n",
       "<p>2394 rows × 18 columns</p>\n",
       "</div>"
      ],
      "text/plain": [
       "                           _id  metadata.matchNumber metadata.scouterName  \\\n",
       "0     65e21a8090db904a4ca5e888                     1                  Jim   \n",
       "1     65e21a8090db904a4ca5e88a                     1                  Jim   \n",
       "2     65e21a8090db904a4ca5e88c                     1                  Jim   \n",
       "3     65e21a8090db904a4ca5e88e                     1                  Jim   \n",
       "4     65e21a8090db904a4ca5e890                     1                  Jim   \n",
       "...                        ...                   ...                  ...   \n",
       "2390  65e21a8c90db904a4ca5fb34                   399                  Jim   \n",
       "2392  65e21a8c90db904a4ca5fb38                   399                  Jim   \n",
       "2388  65e21a8c90db904a4ca5fb30                   399                  Jim   \n",
       "2389  65e21a8c90db904a4ca5fb32                   399                  Jim   \n",
       "2393  65e21a8c90db904a4ca5fb3a                   399                  Jim   \n",
       "\n",
       "      metadata.robotTeam metadata.robotPosition  leftStartingZone   climb  \\\n",
       "0                   1496                  red_1             False    park   \n",
       "1                    874                  red_2              True  failed   \n",
       "2                    701                  red_3              True    none   \n",
       "3                   8204                 blue_1             False  failed   \n",
       "4                   6921                 blue_2             False  source   \n",
       "...                  ...                    ...               ...     ...   \n",
       "2390                9413                  red_3              True  center   \n",
       "2392                9351                 blue_2              True     amp   \n",
       "2388                7842                  red_1              True  source   \n",
       "2389                 331                  red_2              True  failed   \n",
       "2393                7842                 blue_3              True  failed   \n",
       "\n",
       "      trapNotes  autoNotes.near  autoNotes.mid  autoNotes.far  autoNotes.amp  \\\n",
       "0             0               8              2              5              3   \n",
       "1             0               9              4              1              5   \n",
       "2             1               5              8              2              8   \n",
       "3             0               5              6              4              3   \n",
       "4             0               9              5              6              8   \n",
       "...         ...             ...            ...            ...            ...   \n",
       "2390          1               9              9              7              1   \n",
       "2392          0               1              9              4              4   \n",
       "2388          1               5              4              5              6   \n",
       "2389          0               3              1              0              2   \n",
       "2393          0               1              0              4              5   \n",
       "\n",
       "      autoNotes.miss  teleNotes.near  teleNotes.mid  teleNotes.far  \\\n",
       "0                  3               2              7              3   \n",
       "1                  7               8              2              1   \n",
       "2                  1               8              6              9   \n",
       "3                  5               5              8              5   \n",
       "4                  9               7              2              4   \n",
       "...              ...             ...            ...            ...   \n",
       "2390               6               4              6              3   \n",
       "2392               3               8              1              4   \n",
       "2388               2               3              5              5   \n",
       "2389               3               0              1              9   \n",
       "2393               0               0              8              6   \n",
       "\n",
       "      teleNotes.amp  teleNotes.miss  \n",
       "0                 2               8  \n",
       "1                 9               9  \n",
       "2                 2               8  \n",
       "3                 7               9  \n",
       "4                 2               8  \n",
       "...             ...             ...  \n",
       "2390              4               8  \n",
       "2392              8               4  \n",
       "2388              7               4  \n",
       "2389              7               0  \n",
       "2393              9               8  \n",
       "\n",
       "[2394 rows x 18 columns]"
      ]
     },
     "execution_count": 212,
     "metadata": {},
     "output_type": "execute_result"
    }
   ],
   "source": [
    "matchapps_df = pd.json_normalize(matchapps_df)\n",
    "\n",
    "matchapps_column_order = [\n",
    "    \"_id\",\n",
    "    \"metadata.matchNumber\",\n",
    "    \"metadata.scouterName\",\n",
    "    \"metadata.robotTeam\",\n",
    "    \"metadata.robotPosition\",\n",
    "    \"leftStartingZone\",\n",
    "    \"climb\",\n",
    "    \"trapNotes\",\n",
    "    \"autoNotes.near\",\n",
    "    \"autoNotes.mid\",\n",
    "    \"autoNotes.far\",\n",
    "    \"autoNotes.amp\",\n",
    "    \"autoNotes.miss\",\n",
    "    \"teleNotes.near\",\n",
    "    \"teleNotes.mid\",\n",
    "    \"teleNotes.far\",\n",
    "    \"teleNotes.amp\",\n",
    "    \"teleNotes.miss\"   \n",
    "]\n",
    "\n",
    "matchapps_df = matchapps_df[matchapps_column_order]\n",
    "matchapps_df.sort_values(\"metadata.matchNumber\", inplace=True)\n",
    "matchapps_df"
   ]
  },
  {
   "cell_type": "markdown",
   "metadata": {},
   "source": [
    "### Initialize Output DF"
   ]
  },
  {
   "cell_type": "code",
   "execution_count": 213,
   "metadata": {},
   "outputs": [],
   "source": [
    "matchapps_output_df = pd.DataFrame()"
   ]
  },
  {
   "cell_type": "markdown",
   "metadata": {},
   "source": [
    "## Matchapps Function and Variable Initializations"
   ]
  },
  {
   "cell_type": "markdown",
   "metadata": {},
   "source": [
    "### Check Alliance Harmonization Function Definition"
   ]
  },
  {
   "cell_type": "code",
   "execution_count": 214,
   "metadata": {},
   "outputs": [],
   "source": [
    "def check_team_harmonization_in_alliance(t1, t2, t3):\n",
    "    t1_status, t2_status, t3_status = False, False, False\n",
    "    if t1 not in [\"failed\", \"none\", \"park\"]:\n",
    "        if t1 == t2:\n",
    "            t1_status = True\n",
    "            t2_status = True\n",
    "        if t1 == t3:\n",
    "            t1_status = True\n",
    "            t3_status = True\n",
    "    elif t2 not in [\"failed\", \"none\", \"park\"]:\n",
    "        if t2 == t3:\n",
    "            t2_status = True\n",
    "            t3_status = True\n",
    "    return t1_status, t2_status, t3_status"
   ]
  },
  {
   "cell_type": "markdown",
   "metadata": {},
   "source": [
    "### Complete List of all Teams in DF"
   ]
  },
  {
   "cell_type": "code",
   "execution_count": 215,
   "metadata": {},
   "outputs": [],
   "source": [
    "team_list = matchapps_df[\"metadata.robotTeam\"].unique().tolist()"
   ]
  },
  {
   "cell_type": "markdown",
   "metadata": {},
   "source": [
    "### Complete Range of All Matches"
   ]
  },
  {
   "cell_type": "code",
   "execution_count": 216,
   "metadata": {},
   "outputs": [],
   "source": [
    "match_range = matchapps_df[\"metadata.matchNumber\"].max()"
   ]
  },
  {
   "cell_type": "markdown",
   "metadata": {},
   "source": [
    "## Matchapps Data Analysis"
   ]
  },
  {
   "cell_type": "markdown",
   "metadata": {},
   "source": [
    "### Auto Data Analysis Calculations"
   ]
  },
  {
   "cell_type": "markdown",
   "metadata": {},
   "source": [
    "#### Auto Speaker Notes Average (near, mid, far)"
   ]
  },
  {
   "cell_type": "code",
   "execution_count": 217,
   "metadata": {},
   "outputs": [],
   "source": [
    "matchapps_output_df[\"Auto Speaker Notes Near Avg\"] = matchapps_df.groupby(\"metadata.robotTeam\")[\"autoNotes.near\"].mean()\n",
    "matchapps_output_df[\"Auto Speaker Notes Mid Avg\"] = matchapps_df.groupby(\"metadata.robotTeam\")[\"autoNotes.mid\"].mean()\n",
    "matchapps_output_df[\"Auto Speaker Notes Far Avg\"] = matchapps_df.groupby(\"metadata.robotTeam\")[\"autoNotes.far\"].mean()"
   ]
  },
  {
   "cell_type": "markdown",
   "metadata": {},
   "source": [
    "#### Auto Amp Notes Average"
   ]
  },
  {
   "cell_type": "code",
   "execution_count": 218,
   "metadata": {},
   "outputs": [],
   "source": [
    "matchapps_output_df[\"Auto Notes Amp Avg\"] = matchapps_df.groupby(\"metadata.robotTeam\")[\"autoNotes.amp\"].mean()"
   ]
  },
  {
   "cell_type": "markdown",
   "metadata": {},
   "source": [
    "#### Auto Percent of Miss Notes"
   ]
  },
  {
   "cell_type": "code",
   "execution_count": 219,
   "metadata": {},
   "outputs": [],
   "source": [
    "matchapps_output_df[\"Auto Percent of Missed Notes\"] = None\n",
    "for team in team_list:\n",
    "    missed_notes = matchapps_df[matchapps_df[\"metadata.robotTeam\"] == team][\"autoNotes.miss\"].sum()\n",
    "    total_notes = matchapps_df[matchapps_df[\"metadata.robotTeam\"] == team][\"autoNotes.near\"].sum()\n",
    "    + matchapps_df[matchapps_df[\"metadata.robotTeam\"] == team][\"autoNotes.mid\"].sum()\n",
    "    + matchapps_df[matchapps_df[\"metadata.robotTeam\"] == team][\"autoNotes.far\"].sum()\n",
    "    + matchapps_df[matchapps_df[\"metadata.robotTeam\"] == team][\"autoNotes.amp\"].sum()\n",
    "    + missed_notes\n",
    "    matchapps_output_df.at[team, \"Auto Percent of Missed Notes\"] = missed_notes / total_notes"
   ]
  },
  {
   "cell_type": "markdown",
   "metadata": {},
   "source": [
    "#### Auto All Notes Average"
   ]
  },
  {
   "cell_type": "code",
   "execution_count": 220,
   "metadata": {},
   "outputs": [],
   "source": [
    "matchapps_output_df[\"Auto Notes Avg\"] = (matchapps_output_df[\"Auto Notes Amp Avg\"] +\n",
    "                               matchapps_output_df[\"Auto Speaker Notes Near Avg\"] +\n",
    "                               matchapps_output_df[\"Auto Speaker Notes Mid Avg\"] +\n",
    "                               matchapps_output_df[\"Auto Speaker Notes Far Avg\"]) / 4"
   ]
  },
  {
   "cell_type": "markdown",
   "metadata": {},
   "source": [
    "### Teleop Data Analysis Calculations"
   ]
  },
  {
   "cell_type": "markdown",
   "metadata": {},
   "source": [
    "#### Teleop Speaker Notes Average (near, mid, far)"
   ]
  },
  {
   "cell_type": "code",
   "execution_count": 221,
   "metadata": {},
   "outputs": [],
   "source": [
    "matchapps_output_df[\"Tele Speaker Notes Near Avg\"] = matchapps_df.groupby(\"metadata.robotTeam\")[\"teleNotes.near\"].mean()\n",
    "matchapps_output_df[\"Tele Speaker Notes Mid Avg\"] = matchapps_df.groupby(\"metadata.robotTeam\")[\"teleNotes.mid\"].mean()\n",
    "matchapps_output_df[\"Tele Speaker Notes Far Avg\"] = matchapps_df.groupby(\"metadata.robotTeam\")[\"teleNotes.far\"].mean()"
   ]
  },
  {
   "cell_type": "markdown",
   "metadata": {},
   "source": [
    "#### Teleop Amp Notes Average"
   ]
  },
  {
   "cell_type": "code",
   "execution_count": 222,
   "metadata": {},
   "outputs": [],
   "source": [
    "matchapps_output_df[\"Tele Notes Amp Avg\"] = matchapps_df.groupby(\"metadata.robotTeam\")[\"teleNotes.amp\"].mean()"
   ]
  },
  {
   "cell_type": "markdown",
   "metadata": {},
   "source": [
    "#### Teleop All Notes Average"
   ]
  },
  {
   "cell_type": "code",
   "execution_count": 223,
   "metadata": {},
   "outputs": [],
   "source": [
    "matchapps_output_df[\"Tele Notes Avg\"] = (matchapps_output_df[\"Tele Notes Amp Avg\"] +\n",
    "                               matchapps_output_df[\"Tele Speaker Notes Near Avg\"] +\n",
    "                               matchapps_output_df[\"Tele Speaker Notes Mid Avg\"] +\n",
    "                               matchapps_output_df[\"Tele Speaker Notes Far Avg\"]) / 4"
   ]
  },
  {
   "cell_type": "markdown",
   "metadata": {},
   "source": [
    "#### Teleop Percent of Missed Notes"
   ]
  },
  {
   "cell_type": "code",
   "execution_count": 224,
   "metadata": {},
   "outputs": [],
   "source": [
    "matchapps_output_df[\"Tele Percent of Missed Notes\"] = None\n",
    "for team in team_list:\n",
    "    missed_notes = matchapps_df[matchapps_df[\"metadata.robotTeam\"] == team][\"teleNotes.miss\"].sum()\n",
    "    total_notes = matchapps_df[matchapps_df[\"metadata.robotTeam\"] == team][\"teleNotes.near\"].sum()\n",
    "    + matchapps_df[matchapps_df[\"metadata.robotTeam\"] == team][\"teleNotes.mid\"].sum()\n",
    "    + matchapps_df[matchapps_df[\"metadata.robotTeam\"] == team][\"teleNotes.far\"].sum()\n",
    "    + matchapps_df[matchapps_df[\"metadata.robotTeam\"] == team][\"teleNotes.amp\"].sum()\n",
    "    + missed_notes\n",
    "    matchapps_output_df.at[team, \"Percent of Missed Notes\"] = missed_notes / total_notes"
   ]
  },
  {
   "cell_type": "markdown",
   "metadata": {},
   "source": [
    "### Other Data Analysis Calculations"
   ]
  },
  {
   "cell_type": "markdown",
   "metadata": {},
   "source": [
    "#### Trap Notes"
   ]
  },
  {
   "cell_type": "code",
   "execution_count": 225,
   "metadata": {},
   "outputs": [],
   "source": [
    "matchapps_output_df[\"Trap Notes Avg\"] = matchapps_df.groupby(\"metadata.robotTeam\")[\"trapNotes\"].mean()"
   ]
  },
  {
   "cell_type": "markdown",
   "metadata": {},
   "source": [
    "#### Percent of Successful Climbs and Successful Climbs Total"
   ]
  },
  {
   "cell_type": "code",
   "execution_count": 226,
   "metadata": {},
   "outputs": [],
   "source": [
    "matchapps_output_df[\"Percent of Successful Climbs\"] = None\n",
    "matchapps_output_df[\"Successful Climbs Total\"] = None\n",
    "\n",
    "for team in team_list:\n",
    "    climb_list = matchapps_df.loc[matchapps_df[\"metadata.robotTeam\"] == team, \"climb\"].tolist()\n",
    "    total_climbs = 0\n",
    "    successful_climbs = 0\n",
    "    for climb_type in climb_list:\n",
    "        if climb_type == \"failed\":\n",
    "            total_climbs += 1\n",
    "        elif climb_type == \"amp\" or climb_type == \"source\" or climb_type == \"center\":\n",
    "            total_climbs += 1\n",
    "            successful_climbs += 1\n",
    "    if total_climbs == 0:\n",
    "        matchapps_output_df.at[team, \"Percent of Successful Climbs\"] = 0\n",
    "        \n",
    "    else:\n",
    "        matchapps_output_df.at[team, \"Percent of Successful Climbs\"] = successful_climbs / total_climbs\n",
    "    \n",
    "    matchapps_output_df.at[team, \"Successful Climbs Total\"] = successful_climbs"
   ]
  },
  {
   "cell_type": "markdown",
   "metadata": {},
   "source": [
    "#### Harmonized Climbs Total"
   ]
  },
  {
   "cell_type": "code",
   "execution_count": 227,
   "metadata": {},
   "outputs": [
    {
     "name": "stderr",
     "output_type": "stream",
     "text": [
      "C:\\Users\\benja\\AppData\\Local\\Temp\\ipykernel_22124\\3676841220.py:6: SettingWithCopyWarning: \n",
      "A value is trying to be set on a copy of a slice from a DataFrame\n",
      "\n",
      "See the caveats in the documentation: https://pandas.pydata.org/pandas-docs/stable/user_guide/indexing.html#returning-a-view-versus-a-copy\n",
      "  robots.sort_values(\"metadata.robotPosition\", inplace=True)\n"
     ]
    }
   ],
   "source": [
    "matchapps_output_df[\"Harmonized Climbs Total\"] = 0\n",
    "\n",
    "for match in range(1, match_range + 1):\n",
    "    match_number_df = matchapps_df['metadata.matchNumber'] == match\n",
    "    robots = matchapps_df[match_number_df]\n",
    "    robots.sort_values(\"metadata.robotPosition\", inplace=True)\n",
    "    \n",
    "    teams_harmonized = []\n",
    "    \n",
    "    for i in range(6):\n",
    "        teams_harmonized.append([robots.iloc[i][\"metadata.robotTeam\"], robots.iloc[i][\"climb\"], False])\n",
    "\n",
    "    teams_harmonized[0][2], teams_harmonized[1][2], teams_harmonized[2][2] = check_team_harmonization_in_alliance(teams_harmonized[0][1], teams_harmonized[1][1], teams_harmonized[2][1])\n",
    "    teams_harmonized[3][2], teams_harmonized[4][2], teams_harmonized[5][2] = check_team_harmonization_in_alliance(teams_harmonized[3][1], teams_harmonized[4][1], teams_harmonized[5][1])\n",
    "\n",
    "    for checked_team in teams_harmonized:\n",
    "        if checked_team[2]:\n",
    "            matchapps_output_df.at[checked_team[0], \"Harmonized Climbs Total\"] += 1"
   ]
  },
  {
   "cell_type": "markdown",
   "metadata": {},
   "source": [
    "#### Percent of Harmonized Climbs out of Successful Climbs"
   ]
  },
  {
   "cell_type": "code",
   "execution_count": 228,
   "metadata": {},
   "outputs": [
    {
     "name": "stderr",
     "output_type": "stream",
     "text": [
      "C:\\Users\\benja\\AppData\\Local\\Temp\\ipykernel_22124\\948994976.py:4: FutureWarning: Setting an item of incompatible dtype is deprecated and will raise an error in a future version of pandas. Value '0.1935483870967742' has dtype incompatible with int64, please explicitly cast to a compatible dtype first.\n",
      "  matchapps_output_df.at[team, \"Percent of Harmonized Climbs out of Successful Climbs\"] = matchapps_output_df.at[team, \"Harmonized Climbs Total\"] / matchapps_output_df.at[team, \"Successful Climbs Total\"]\n"
     ]
    }
   ],
   "source": [
    "matchapps_output_df[\"Percent of Harmonized Climbs out of Successful Climbs\"] = 0\n",
    "\n",
    "for team in team_list:\n",
    "    matchapps_output_df.at[team, \"Percent of Harmonized Climbs out of Successful Climbs\"] = matchapps_output_df.at[team, \"Harmonized Climbs Total\"] / matchapps_output_df.at[team, \"Successful Climbs Total\"]"
   ]
  },
  {
   "cell_type": "markdown",
   "metadata": {},
   "source": [
    "#### Percent of Times Robot Left Starting Zone During Autos"
   ]
  },
  {
   "cell_type": "code",
   "execution_count": 229,
   "metadata": {},
   "outputs": [],
   "source": [
    "matchapps_output_df[\"Percent of Times Robot Left Starting Zone During Autos\"] = matchapps_df.groupby(\"metadata.robotTeam\")[\"leftStartingZone\"].mean()"
   ]
  },
  {
   "cell_type": "markdown",
   "metadata": {},
   "source": [
    "### Custom Metric Data Analysis Calculations"
   ]
  },
  {
   "cell_type": "markdown",
   "metadata": {},
   "source": [
    "#### Endgame Custom Metric"
   ]
  },
  {
   "cell_type": "code",
   "execution_count": 230,
   "metadata": {},
   "outputs": [],
   "source": [
    "matchapps_output_df[\"Endgame Custom Metric\"] = ((matchapps_output_df[\"Percent of Successful Climbs\"] * 5) ** 2 + (matchapps_output_df[\"Percent of Harmonized Climbs out of Successful Climbs\"] * 5) ** 2 + (matchapps_output_df[\"Trap Notes Avg\"] * 5) ** 2) / 3\n",
    "matchapps_output_df[\"Endgame Custom Metric\"] = matchapps_output_df[\"Endgame Custom Metric\"].apply(lambda x: round(x, 1))"
   ]
  },
  {
   "cell_type": "markdown",
   "metadata": {},
   "source": [
    "## Matchapps Finalize and Send Data"
   ]
  },
  {
   "cell_type": "markdown",
   "metadata": {},
   "source": [
    "### Send Data"
   ]
  },
  {
   "cell_type": "code",
   "execution_count": 231,
   "metadata": {},
   "outputs": [],
   "source": [
    "matchapps_output_df.to_json(\"../server/static/analyzed_data.json\", orient='records', default_handler=str)"
   ]
  },
  {
   "cell_type": "markdown",
   "metadata": {},
   "source": [
    "# SUPERAPPS"
   ]
  },
  {
   "cell_type": "markdown",
   "metadata": {},
   "source": [
    "## Supperapps Initalization"
   ]
  },
  {
   "cell_type": "markdown",
   "metadata": {},
   "source": [
    "### Create Superapps DataFrame"
   ]
  },
  {
   "cell_type": "code",
   "execution_count": 232,
   "metadata": {},
   "outputs": [],
   "source": [
    "superapps_collection = db[\"superapps\"]\n",
    "superapps_df = superapps_collection.find()"
   ]
  },
  {
   "cell_type": "markdown",
   "metadata": {},
   "source": [
    "### Flatten, reorganize, and clean Data"
   ]
  },
  {
   "cell_type": "code",
   "execution_count": 233,
   "metadata": {},
   "outputs": [
    {
     "data": {
      "text/html": [
       "<div>\n",
       "<style scoped>\n",
       "    .dataframe tbody tr th:only-of-type {\n",
       "        vertical-align: middle;\n",
       "    }\n",
       "\n",
       "    .dataframe tbody tr th {\n",
       "        vertical-align: top;\n",
       "    }\n",
       "\n",
       "    .dataframe thead th {\n",
       "        text-align: right;\n",
       "    }\n",
       "</style>\n",
       "<table border=\"1\" class=\"dataframe\">\n",
       "  <thead>\n",
       "    <tr style=\"text-align: right;\">\n",
       "      <th></th>\n",
       "      <th>_id</th>\n",
       "      <th>defense</th>\n",
       "      <th>defended</th>\n",
       "      <th>__v</th>\n",
       "      <th>metadata.scouterName</th>\n",
       "      <th>metadata.matchNumber</th>\n",
       "      <th>metadata.robotTeam</th>\n",
       "      <th>metadata.robotPosition</th>\n",
       "      <th>fouls.inBot</th>\n",
       "      <th>fouls.damageBot</th>\n",
       "      <th>fouls.tipEntangBot</th>\n",
       "      <th>fouls.pinBot</th>\n",
       "      <th>fouls.podiumFoul</th>\n",
       "      <th>fouls.zoneFoul</th>\n",
       "      <th>fouls.stageFoul</th>\n",
       "      <th>fouls.overExtChute</th>\n",
       "      <th>humanShooter.highNotes.amp</th>\n",
       "      <th>humanShooter.highNotes.source</th>\n",
       "      <th>humanShooter.highNotes.center</th>\n",
       "    </tr>\n",
       "  </thead>\n",
       "  <tbody>\n",
       "    <tr>\n",
       "      <th>0</th>\n",
       "      <td>65e21a8c90db904a4ca5fb3c</td>\n",
       "      <td>someDef</td>\n",
       "      <td>False</td>\n",
       "      <td>0</td>\n",
       "      <td>Jim</td>\n",
       "      <td>1</td>\n",
       "      <td>2652</td>\n",
       "      <td>red_1</td>\n",
       "      <td>9</td>\n",
       "      <td>8</td>\n",
       "      <td>9</td>\n",
       "      <td>6</td>\n",
       "      <td>4</td>\n",
       "      <td>9</td>\n",
       "      <td>2</td>\n",
       "      <td>8</td>\n",
       "      <td>True</td>\n",
       "      <td>True</td>\n",
       "      <td>True</td>\n",
       "    </tr>\n",
       "    <tr>\n",
       "      <th>1</th>\n",
       "      <td>65e21a8c90db904a4ca5fb3e</td>\n",
       "      <td>someDef</td>\n",
       "      <td>False</td>\n",
       "      <td>0</td>\n",
       "      <td>Jim</td>\n",
       "      <td>1</td>\n",
       "      <td>331</td>\n",
       "      <td>red_2</td>\n",
       "      <td>9</td>\n",
       "      <td>7</td>\n",
       "      <td>8</td>\n",
       "      <td>8</td>\n",
       "      <td>1</td>\n",
       "      <td>8</td>\n",
       "      <td>3</td>\n",
       "      <td>3</td>\n",
       "      <td>False</td>\n",
       "      <td>False</td>\n",
       "      <td>True</td>\n",
       "    </tr>\n",
       "    <tr>\n",
       "      <th>2</th>\n",
       "      <td>65e21a8c90db904a4ca5fb40</td>\n",
       "      <td>noDef</td>\n",
       "      <td>True</td>\n",
       "      <td>0</td>\n",
       "      <td>Jim</td>\n",
       "      <td>1</td>\n",
       "      <td>2652</td>\n",
       "      <td>red_3</td>\n",
       "      <td>9</td>\n",
       "      <td>2</td>\n",
       "      <td>3</td>\n",
       "      <td>6</td>\n",
       "      <td>3</td>\n",
       "      <td>7</td>\n",
       "      <td>6</td>\n",
       "      <td>8</td>\n",
       "      <td>False</td>\n",
       "      <td>False</td>\n",
       "      <td>True</td>\n",
       "    </tr>\n",
       "    <tr>\n",
       "      <th>3</th>\n",
       "      <td>65e21a8c90db904a4ca5fb42</td>\n",
       "      <td>noDef</td>\n",
       "      <td>True</td>\n",
       "      <td>0</td>\n",
       "      <td>Jim</td>\n",
       "      <td>1</td>\n",
       "      <td>701</td>\n",
       "      <td>blue_1</td>\n",
       "      <td>1</td>\n",
       "      <td>1</td>\n",
       "      <td>5</td>\n",
       "      <td>4</td>\n",
       "      <td>5</td>\n",
       "      <td>3</td>\n",
       "      <td>7</td>\n",
       "      <td>8</td>\n",
       "      <td>False</td>\n",
       "      <td>True</td>\n",
       "      <td>True</td>\n",
       "    </tr>\n",
       "    <tr>\n",
       "      <th>4</th>\n",
       "      <td>65e21a8c90db904a4ca5fb44</td>\n",
       "      <td>fullDef</td>\n",
       "      <td>False</td>\n",
       "      <td>0</td>\n",
       "      <td>Jim</td>\n",
       "      <td>1</td>\n",
       "      <td>6824</td>\n",
       "      <td>blue_2</td>\n",
       "      <td>6</td>\n",
       "      <td>2</td>\n",
       "      <td>8</td>\n",
       "      <td>8</td>\n",
       "      <td>6</td>\n",
       "      <td>3</td>\n",
       "      <td>0</td>\n",
       "      <td>7</td>\n",
       "      <td>False</td>\n",
       "      <td>True</td>\n",
       "      <td>False</td>\n",
       "    </tr>\n",
       "    <tr>\n",
       "      <th>...</th>\n",
       "      <td>...</td>\n",
       "      <td>...</td>\n",
       "      <td>...</td>\n",
       "      <td>...</td>\n",
       "      <td>...</td>\n",
       "      <td>...</td>\n",
       "      <td>...</td>\n",
       "      <td>...</td>\n",
       "      <td>...</td>\n",
       "      <td>...</td>\n",
       "      <td>...</td>\n",
       "      <td>...</td>\n",
       "      <td>...</td>\n",
       "      <td>...</td>\n",
       "      <td>...</td>\n",
       "      <td>...</td>\n",
       "      <td>...</td>\n",
       "      <td>...</td>\n",
       "      <td>...</td>\n",
       "    </tr>\n",
       "    <tr>\n",
       "      <th>2390</th>\n",
       "      <td>65e21a9790db904a4ca60de8</td>\n",
       "      <td>fullDef</td>\n",
       "      <td>True</td>\n",
       "      <td>0</td>\n",
       "      <td>Jim</td>\n",
       "      <td>399</td>\n",
       "      <td>6465</td>\n",
       "      <td>red_3</td>\n",
       "      <td>7</td>\n",
       "      <td>7</td>\n",
       "      <td>6</td>\n",
       "      <td>3</td>\n",
       "      <td>3</td>\n",
       "      <td>0</td>\n",
       "      <td>2</td>\n",
       "      <td>9</td>\n",
       "      <td>False</td>\n",
       "      <td>True</td>\n",
       "      <td>True</td>\n",
       "    </tr>\n",
       "    <tr>\n",
       "      <th>2392</th>\n",
       "      <td>65e21a9790db904a4ca60dec</td>\n",
       "      <td>fullDef</td>\n",
       "      <td>True</td>\n",
       "      <td>0</td>\n",
       "      <td>Jim</td>\n",
       "      <td>399</td>\n",
       "      <td>3285</td>\n",
       "      <td>blue_2</td>\n",
       "      <td>3</td>\n",
       "      <td>7</td>\n",
       "      <td>9</td>\n",
       "      <td>8</td>\n",
       "      <td>8</td>\n",
       "      <td>6</td>\n",
       "      <td>4</td>\n",
       "      <td>2</td>\n",
       "      <td>False</td>\n",
       "      <td>True</td>\n",
       "      <td>False</td>\n",
       "    </tr>\n",
       "    <tr>\n",
       "      <th>2388</th>\n",
       "      <td>65e21a9790db904a4ca60de4</td>\n",
       "      <td>fullDef</td>\n",
       "      <td>True</td>\n",
       "      <td>0</td>\n",
       "      <td>Jim</td>\n",
       "      <td>399</td>\n",
       "      <td>2215</td>\n",
       "      <td>red_1</td>\n",
       "      <td>5</td>\n",
       "      <td>9</td>\n",
       "      <td>5</td>\n",
       "      <td>6</td>\n",
       "      <td>8</td>\n",
       "      <td>1</td>\n",
       "      <td>4</td>\n",
       "      <td>1</td>\n",
       "      <td>True</td>\n",
       "      <td>False</td>\n",
       "      <td>False</td>\n",
       "    </tr>\n",
       "    <tr>\n",
       "      <th>2389</th>\n",
       "      <td>65e21a9790db904a4ca60de6</td>\n",
       "      <td>someDef</td>\n",
       "      <td>True</td>\n",
       "      <td>0</td>\n",
       "      <td>Jim</td>\n",
       "      <td>399</td>\n",
       "      <td>2034</td>\n",
       "      <td>red_2</td>\n",
       "      <td>2</td>\n",
       "      <td>7</td>\n",
       "      <td>8</td>\n",
       "      <td>2</td>\n",
       "      <td>5</td>\n",
       "      <td>2</td>\n",
       "      <td>5</td>\n",
       "      <td>9</td>\n",
       "      <td>False</td>\n",
       "      <td>True</td>\n",
       "      <td>False</td>\n",
       "    </tr>\n",
       "    <tr>\n",
       "      <th>2393</th>\n",
       "      <td>65e21a9790db904a4ca60dee</td>\n",
       "      <td>noDef</td>\n",
       "      <td>True</td>\n",
       "      <td>0</td>\n",
       "      <td>Jim</td>\n",
       "      <td>399</td>\n",
       "      <td>2360</td>\n",
       "      <td>blue_3</td>\n",
       "      <td>7</td>\n",
       "      <td>5</td>\n",
       "      <td>9</td>\n",
       "      <td>7</td>\n",
       "      <td>7</td>\n",
       "      <td>4</td>\n",
       "      <td>6</td>\n",
       "      <td>6</td>\n",
       "      <td>False</td>\n",
       "      <td>True</td>\n",
       "      <td>True</td>\n",
       "    </tr>\n",
       "  </tbody>\n",
       "</table>\n",
       "<p>2394 rows × 19 columns</p>\n",
       "</div>"
      ],
      "text/plain": [
       "                           _id  defense  defended  __v metadata.scouterName  \\\n",
       "0     65e21a8c90db904a4ca5fb3c  someDef     False    0                  Jim   \n",
       "1     65e21a8c90db904a4ca5fb3e  someDef     False    0                  Jim   \n",
       "2     65e21a8c90db904a4ca5fb40    noDef      True    0                  Jim   \n",
       "3     65e21a8c90db904a4ca5fb42    noDef      True    0                  Jim   \n",
       "4     65e21a8c90db904a4ca5fb44  fullDef     False    0                  Jim   \n",
       "...                        ...      ...       ...  ...                  ...   \n",
       "2390  65e21a9790db904a4ca60de8  fullDef      True    0                  Jim   \n",
       "2392  65e21a9790db904a4ca60dec  fullDef      True    0                  Jim   \n",
       "2388  65e21a9790db904a4ca60de4  fullDef      True    0                  Jim   \n",
       "2389  65e21a9790db904a4ca60de6  someDef      True    0                  Jim   \n",
       "2393  65e21a9790db904a4ca60dee    noDef      True    0                  Jim   \n",
       "\n",
       "      metadata.matchNumber  metadata.robotTeam metadata.robotPosition  \\\n",
       "0                        1                2652                  red_1   \n",
       "1                        1                 331                  red_2   \n",
       "2                        1                2652                  red_3   \n",
       "3                        1                 701                 blue_1   \n",
       "4                        1                6824                 blue_2   \n",
       "...                    ...                 ...                    ...   \n",
       "2390                   399                6465                  red_3   \n",
       "2392                   399                3285                 blue_2   \n",
       "2388                   399                2215                  red_1   \n",
       "2389                   399                2034                  red_2   \n",
       "2393                   399                2360                 blue_3   \n",
       "\n",
       "      fouls.inBot  fouls.damageBot  fouls.tipEntangBot  fouls.pinBot  \\\n",
       "0               9                8                   9             6   \n",
       "1               9                7                   8             8   \n",
       "2               9                2                   3             6   \n",
       "3               1                1                   5             4   \n",
       "4               6                2                   8             8   \n",
       "...           ...              ...                 ...           ...   \n",
       "2390            7                7                   6             3   \n",
       "2392            3                7                   9             8   \n",
       "2388            5                9                   5             6   \n",
       "2389            2                7                   8             2   \n",
       "2393            7                5                   9             7   \n",
       "\n",
       "      fouls.podiumFoul  fouls.zoneFoul  fouls.stageFoul  fouls.overExtChute  \\\n",
       "0                    4               9                2                   8   \n",
       "1                    1               8                3                   3   \n",
       "2                    3               7                6                   8   \n",
       "3                    5               3                7                   8   \n",
       "4                    6               3                0                   7   \n",
       "...                ...             ...              ...                 ...   \n",
       "2390                 3               0                2                   9   \n",
       "2392                 8               6                4                   2   \n",
       "2388                 8               1                4                   1   \n",
       "2389                 5               2                5                   9   \n",
       "2393                 7               4                6                   6   \n",
       "\n",
       "      humanShooter.highNotes.amp  humanShooter.highNotes.source  \\\n",
       "0                           True                           True   \n",
       "1                          False                          False   \n",
       "2                          False                          False   \n",
       "3                          False                           True   \n",
       "4                          False                           True   \n",
       "...                          ...                            ...   \n",
       "2390                       False                           True   \n",
       "2392                       False                           True   \n",
       "2388                        True                          False   \n",
       "2389                       False                           True   \n",
       "2393                       False                           True   \n",
       "\n",
       "      humanShooter.highNotes.center  \n",
       "0                              True  \n",
       "1                              True  \n",
       "2                              True  \n",
       "3                              True  \n",
       "4                             False  \n",
       "...                             ...  \n",
       "2390                           True  \n",
       "2392                          False  \n",
       "2388                          False  \n",
       "2389                          False  \n",
       "2393                           True  \n",
       "\n",
       "[2394 rows x 19 columns]"
      ]
     },
     "execution_count": 233,
     "metadata": {},
     "output_type": "execute_result"
    }
   ],
   "source": [
    "superapps_df = pd.json_normalize(superapps_df)\n",
    "superapps_df.sort_values(\"metadata.matchNumber\", inplace=True)\n",
    "superapps_df"
   ]
  },
  {
   "cell_type": "markdown",
   "metadata": {},
   "source": [
    "### Initialize Output DF"
   ]
  },
  {
   "cell_type": "code",
   "execution_count": 234,
   "metadata": {},
   "outputs": [],
   "source": [
    "superapps_output_df = pd.DataFrame()"
   ]
  },
  {
   "cell_type": "markdown",
   "metadata": {},
   "source": [
    "## Superapps Data Analysis"
   ]
  },
  {
   "cell_type": "markdown",
   "metadata": {},
   "source": [
    "### Fouls"
   ]
  },
  {
   "cell_type": "code",
   "execution_count": 235,
   "metadata": {},
   "outputs": [],
   "source": [
    "superapps_output_df[\"Foul - In Bot\"] = superapps_df.groupby(\"metadata.robotTeam\")[\"fouls.inBot\"].mean()\n",
    "superapps_output_df[\"Foul - Damage Bot\"] = superapps_df.groupby(\"metadata.robotTeam\")[\"fouls.damageBot\"].mean()\n",
    "superapps_output_df[\"Foul - Tip Entangle Bot\"] = superapps_df.groupby(\"metadata.robotTeam\")[\"fouls.tipEntangBot\"].mean()\n",
    "superapps_output_df[\"Foul - Pin Bot\"] = superapps_df.groupby(\"metadata.robotTeam\")[\"fouls.pinBot\"].mean()\n",
    "superapps_output_df[\"Foul - Podium\"] = superapps_df.groupby(\"metadata.robotTeam\")[\"fouls.podiumFoul\"].mean()\n",
    "superapps_output_df[\"Foul - Zone\"] = superapps_df.groupby(\"metadata.robotTeam\")[\"fouls.zoneFoul\"].mean()\n",
    "superapps_output_df[\"Foul - Stage\"] = superapps_df.groupby(\"metadata.robotTeam\")[\"fouls.stageFoul\"].mean()\n",
    "superapps_output_df[\"Foul - Over Exc Chute\"] = superapps_df.groupby(\"metadata.robotTeam\")[\"fouls.overExtChute\"].mean()\n",
    "\n",
    "superapps_output_df[\"Average Fouls per Match\"] = None\n",
    "\n",
    "for team in team_list:\n",
    "    superapps_output_df.at[team, \"Average Fouls per Match\"] = superapps_output_df.at[team, \"Foul - In Bot\"] + superapps_output_df.at[team, \"Foul - Damage Bot\"] + superapps_output_df.at[team, \"Foul - Tip Entangle Bot\"] + superapps_output_df.at[team, \"Foul - Pin Bot\"] + superapps_output_df.at[team, \"Foul - Podium\"] + superapps_output_df.at[team, \"Foul - Zone\"] + superapps_output_df.at[team, \"Foul - Stage\"] + superapps_output_df.at[team, \"Foul - Over Exc Chute\"]"
   ]
  },
  {
   "cell_type": "markdown",
   "metadata": {},
   "source": [
    "### Defense"
   ]
  },
  {
   "cell_type": "code",
   "execution_count": 236,
   "metadata": {},
   "outputs": [],
   "source": [
    "superapps_output_df[\"Full Defense Total\"] = superapps_df[superapps_df[\"defense\"] == \"fullDef\"].groupby(\"metadata.robotTeam\").size()\n",
    "superapps_output_df[\"Some Defense Total\"] = superapps_df[superapps_df[\"defense\"] == \"someDef\"].groupby(\"metadata.robotTeam\").size()\n",
    "superapps_output_df[\"No Defense Total\"] = superapps_df[superapps_df[\"defense\"] == \"noDef\"].groupby(\"metadata.robotTeam\").size()"
   ]
  },
  {
   "cell_type": "markdown",
   "metadata": {},
   "source": [
    "## Superapps Finalize and Send Data"
   ]
  },
  {
   "cell_type": "markdown",
   "metadata": {},
   "source": [
    "### Send Data"
   ]
  },
  {
   "cell_type": "code",
   "execution_count": 237,
   "metadata": {},
   "outputs": [],
   "source": [
    "superapps_output_df.to_json(\"../server/static/analyzed_data.json\", orient='records', default_handler=str)"
   ]
  }
 ],
 "metadata": {
  "kernelspec": {
   "display_name": "Python 3",
   "language": "python",
   "name": "python3"
  },
  "language_info": {
   "codemirror_mode": {
    "name": "ipython",
    "version": 3
   },
   "file_extension": ".py",
   "mimetype": "text/x-python",
   "name": "python",
   "nbconvert_exporter": "python",
   "pygments_lexer": "ipython3",
   "version": "3.12.1"
  }
 },
 "nbformat": 4,
 "nbformat_minor": 2
}
