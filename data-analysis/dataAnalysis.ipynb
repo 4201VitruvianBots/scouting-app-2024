{
 "cells": [
  {
   "cell_type": "markdown",
   "metadata": {},
   "source": [
    "# Initialize Everything"
   ]
  },
  {
   "cell_type": "code",
   "execution_count": null,
   "metadata": {},
   "outputs": [],
   "source": [
    "from pymongo import MongoClient\n",
    "import pandas as pd"
   ]
  },
  {
   "cell_type": "markdown",
   "metadata": {},
   "source": [
    "## Read MongoDB"
   ]
  },
  {
   "cell_type": "code",
   "execution_count": null,
   "metadata": {},
   "outputs": [],
   "source": [
    "client = MongoClient()\n",
    "db = client[\"test\"]\n",
    "collection = db[\"matchapps\"]"
   ]
  },
  {
   "cell_type": "markdown",
   "metadata": {},
   "source": [
    "## Flatten, reorganize, and clean Data"
   ]
  },
  {
   "cell_type": "code",
   "execution_count": null,
   "metadata": {},
   "outputs": [],
   "source": [
    "df = pd.json_normalize(collection.find())\n",
    "\n",
    "column_order = [\n",
    "    \"_id\",\n",
    "    \"metadata.matchNumber\",\n",
    "    \"metadata.scouterName\",\n",
    "    \"metadata.robotTeam\",\n",
    "    \"metadata.robotPosition\",\n",
    "    \"leftStartingZone\",\n",
    "    \"climb\",\n",
    "    \"trapNotes\",\n",
    "    \"autoNotes.near\",\n",
    "    \"autoNotes.mid\",\n",
    "    \"autoNotes.far\",\n",
    "    \"autoNotes.amp\",\n",
    "    \"autoNotes.miss\",\n",
    "    \"teleNotes.near\",\n",
    "    \"teleNotes.mid\",\n",
    "    \"teleNotes.far\",\n",
    "    \"teleNotes.amp\",\n",
    "    \"teleNotes.miss\"   \n",
    "]\n",
    "\n",
    "df = df[column_order]\n",
    "df"
   ]
  },
  {
   "cell_type": "markdown",
   "metadata": {},
   "source": [
    "## Initialize Output DF"
   ]
  },
  {
   "cell_type": "code",
   "execution_count": null,
   "metadata": {},
   "outputs": [],
   "source": [
    "output_df = pd.DataFrame()"
   ]
  },
  {
   "cell_type": "markdown",
   "metadata": {},
   "source": [
    "# Function and Variable Initializations"
   ]
  },
  {
   "cell_type": "markdown",
   "metadata": {},
   "source": [
    "## Check Alliance Harmonization Function Definition"
   ]
  },
  {
   "cell_type": "code",
   "execution_count": null,
   "metadata": {},
   "outputs": [],
   "source": [
    "def check_team_harmonization_in_alliance(t1, t2, t3):\n",
    "    t1_status, t2_status, t3_status = False, False, False\n",
    "    if t1 == t2:\n",
    "        t1_status = True\n",
    "        t2_status = True\n",
    "    if t1 == t3:\n",
    "        t1_status = True\n",
    "        t3_status = True\n",
    "    if t2 == t3:\n",
    "        t2_status = True\n",
    "        t3_status = True\n",
    "    return t1_status, t2_status, t3_status"
   ]
  },
  {
   "cell_type": "markdown",
   "metadata": {},
   "source": [
    "## Complete List of all Teams in DF"
   ]
  },
  {
   "cell_type": "code",
   "execution_count": null,
   "metadata": {},
   "outputs": [],
   "source": [
    "team_list = df[\"metadata.robotTeam\"].unique().tolist()"
   ]
  },
  {
   "cell_type": "markdown",
   "metadata": {},
   "source": [
    "## Complete Range of All Matches"
   ]
  },
  {
   "cell_type": "code",
   "execution_count": null,
   "metadata": {},
   "outputs": [],
   "source": [
    "match_range = df[\"metadata.matchNumber\"].max()\n",
    "match_range"
   ]
  },
  {
   "cell_type": "markdown",
   "metadata": {},
   "source": [
    "# Analyze Data"
   ]
  },
  {
   "cell_type": "markdown",
   "metadata": {},
   "source": [
    "## Auto Data Analysis Calculations"
   ]
  },
  {
   "cell_type": "markdown",
   "metadata": {},
   "source": [
    "### Auto Speaker Notes Average (near, mid, far)"
   ]
  },
  {
   "cell_type": "code",
   "execution_count": null,
   "metadata": {},
   "outputs": [],
   "source": [
    "output_df[\"Auto Speaker Notes Near Avg\"] = df.groupby(\"metadata.robotTeam\")[\"autoNotes.near\"].mean()\n",
    "output_df[\"Auto Speaker Notes Mid Avg\"] = df.groupby(\"metadata.robotTeam\")[\"autoNotes.mid\"].mean()\n",
    "output_df[\"Auto Speaker Notes Far Avg\"] = df.groupby(\"metadata.robotTeam\")[\"autoNotes.far\"].mean()"
   ]
  },
  {
   "cell_type": "markdown",
   "metadata": {},
   "source": [
    "### Auto Amp Notes Average"
   ]
  },
  {
   "cell_type": "code",
   "execution_count": null,
   "metadata": {},
   "outputs": [],
   "source": [
    "output_df[\"Auto Notes Amp Avg\"] = df.groupby(\"metadata.robotTeam\")[\"autoNotes.amp\"].mean()"
   ]
  },
  {
   "cell_type": "markdown",
   "metadata": {},
   "source": [
    "### Auto Percent of Miss Notes"
   ]
  },
  {
   "cell_type": "code",
   "execution_count": null,
   "metadata": {},
   "outputs": [],
   "source": [
    "output_df[\"Auto Percent of Missed Notes\"] = None\n",
    "for team in team_list:\n",
    "    missed_notes = df[df[\"metadata.robotTeam\"] == team][\"autoNotes.miss\"].sum()\n",
    "    total_notes = df[df[\"metadata.robotTeam\"] == team][\"autoNotes.near\"].sum()\n",
    "    + df[df[\"metadata.robotTeam\"] == team][\"autoNotes.mid\"].sum()\n",
    "    + df[df[\"metadata.robotTeam\"] == team][\"autoNotes.far\"].sum()\n",
    "    + df[df[\"metadata.robotTeam\"] == team][\"autoNotes.amp\"].sum()\n",
    "    + missed_notes\n",
    "    output_df.at[team, \"Percent of Missed Notes\"] = missed_notes / total_notes"
   ]
  },
  {
   "cell_type": "markdown",
   "metadata": {},
   "source": [
    "## Auto Data Analysis Calculations"
   ]
  },
  {
   "cell_type": "markdown",
   "metadata": {},
   "source": [
    "### Tele Speaker Notes Average (near, mid, far)"
   ]
  },
  {
   "cell_type": "code",
   "execution_count": null,
   "metadata": {},
   "outputs": [],
   "source": [
    "output_df[\"Tele Speaker Notes Near Avg\"] = df.groupby(\"metadata.robotTeam\")[\"teleNotes.near\"].mean()\n",
    "output_df[\"Tele Speaker Notes Mid Avg\"] = df.groupby(\"metadata.robotTeam\")[\"teleNotes.mid\"].mean()\n",
    "output_df[\"Tele Speaker Notes Far Avg\"] = df.groupby(\"metadata.robotTeam\")[\"teleNotes.far\"].mean()"
   ]
  },
  {
   "cell_type": "markdown",
   "metadata": {},
   "source": [
    "### Tele Amp Notes Average"
   ]
  },
  {
   "cell_type": "code",
   "execution_count": null,
   "metadata": {},
   "outputs": [],
   "source": [
    "output_df[\"Tele Notes Amp Avg\"] = df.groupby(\"metadata.robotTeam\")[\"teleNotes.amp\"].mean()"
   ]
  },
  {
   "cell_type": "markdown",
   "metadata": {},
   "source": [
    "### Tele Percent of Missed Notes"
   ]
  },
  {
   "cell_type": "code",
   "execution_count": null,
   "metadata": {},
   "outputs": [],
   "source": [
    "output_df[\"Tele Percent of Missed Notes\"] = None\n",
    "for team in team_list:\n",
    "    missed_notes = df[df[\"metadata.robotTeam\"] == team][\"teleNotes.miss\"].sum()\n",
    "    total_notes = df[df[\"metadata.robotTeam\"] == team][\"teleNotes.near\"].sum()\n",
    "    + df[df[\"metadata.robotTeam\"] == team][\"teleNotes.mid\"].sum()\n",
    "    + df[df[\"metadata.robotTeam\"] == team][\"teleNotes.far\"].sum()\n",
    "    + df[df[\"metadata.robotTeam\"] == team][\"teleNotes.amp\"].sum()\n",
    "    + missed_notes\n",
    "    output_df.at[team, \"Percent of Missed Notes\"] = missed_notes / total_notes"
   ]
  },
  {
   "cell_type": "markdown",
   "metadata": {},
   "source": [
    "## Other Data Analysis Calculations"
   ]
  },
  {
   "cell_type": "markdown",
   "metadata": {},
   "source": [
    "### Trap Notes"
   ]
  },
  {
   "cell_type": "code",
   "execution_count": null,
   "metadata": {},
   "outputs": [],
   "source": [
    "output_df[\"Trap Notes Avg\"] = df.groupby(\"metadata.robotTeam\")[\"trapNotes\"].mean()"
   ]
  },
  {
   "cell_type": "markdown",
   "metadata": {},
   "source": [
    "### Percent of Successful Climbs and Successful Climbs Total"
   ]
  },
  {
   "cell_type": "code",
   "execution_count": null,
   "metadata": {},
   "outputs": [],
   "source": [
    "output_df[\"Percent of Successful Climbs\"] = None\n",
    "output_df[\"Successful Climbs Total\"] = None\n",
    "\n",
    "for team in team_list:\n",
    "    climb_list = df.loc[df[\"metadata.robotTeam\"] == team, \"climb\"].tolist()\n",
    "    total_climbs = 0\n",
    "    successful_climbs = 0\n",
    "    for climb_type in climb_list:\n",
    "        if climb_type == \"failed\":\n",
    "            total_climbs += 1\n",
    "        elif climb_type == \"amp\" or climb_type == \"source\" or climb_type == \"center\":\n",
    "            total_climbs += 1\n",
    "            successful_climbs += 1\n",
    "    if total_climbs == 0:\n",
    "        output_df.at[team, \"Percent of Successful Climbs\"] = 0\n",
    "        \n",
    "    else:\n",
    "        output_df.at[team, \"Percent of Successful Climbs\"] = successful_climbs / total_climbs\n",
    "    \n",
    "    output_df.at[team, \"Successful Climbs Total\"] = successful_climbs"
   ]
  },
  {
   "cell_type": "markdown",
   "metadata": {},
   "source": [
    "### Harmonized Climbs Total"
   ]
  },
  {
   "cell_type": "code",
   "execution_count": null,
   "metadata": {},
   "outputs": [],
   "source": [
    "output_df[\"Harmonized Climbs Total\"] = 0\n",
    "\n",
    "for match in range(match_range):\n",
    "    \n",
    "    match_number_df = df['metadata.matchNumber'] == match\n",
    "    robots = df[match_number_df]\n",
    "    robots.sort_values(\"metadata.robotPosition\")\n",
    "    \n",
    "    teams_harmonized = []\n",
    "    \n",
    "    for i in range(6):\n",
    "        teams_harmonized.append([robots.at[i + 1, \"Climb\"], False])\n",
    "\n",
    "    teams_harmonized[0][1], teams_harmonized[1][1], teams_harmonized[2][1] = check_team_harmonization_in_alliance(teams_harmonized[0][0], teams_harmonized[1][0], teams_harmonized[2][0])\n",
    "    teams_harmonized[3][1], teams_harmonized[4][1], teams_harmonized[5][1] = check_team_harmonization_in_alliance(teams_harmonized[3][0], teams_harmonized[4][0], teams_harmonized[5][0])\n",
    "\n",
    "    for checked_team in teams_harmonized:\n",
    "        if checked_team[1]:\n",
    "            output_df.at[checked_team[0], \"Harmonized Climbs Total\"] += 1"
   ]
  },
  {
   "cell_type": "markdown",
   "metadata": {},
   "source": [
    "### Percent of Harmonized Climbs out of Successful Climbs"
   ]
  },
  {
   "cell_type": "code",
   "execution_count": null,
   "metadata": {},
   "outputs": [],
   "source": [
    "output_df[\"Percent of Harmonized Climbs out of Successful Climbs\"] = 0\n",
    "\n",
    "for team in team_list:\n",
    "    output_df.at[team, \"Percent of Harmonized Climbs out of Successful Climbs\"] = output_df.at[team, \"Harmonized Climbs Total\"] / output_df.at[team, \"Successful Climbs Total\"]"
   ]
  },
  {
   "cell_type": "markdown",
   "metadata": {},
   "source": [
    "### Percent of Times Robot Left Starting Zone During Autos"
   ]
  },
  {
   "cell_type": "code",
   "execution_count": null,
   "metadata": {},
   "outputs": [],
   "source": [
    "output_df[\"Percent of Times Robot Left Starting Zone During Autos\"] = df.groupby(\"metadata.robotTeam\")[\"leftStartingZone\"].mean()"
   ]
  },
  {
   "cell_type": "markdown",
   "metadata": {},
   "source": [
    "# Finalize and Send Data"
   ]
  },
  {
   "cell_type": "markdown",
   "metadata": {},
   "source": [
    "## Send Data"
   ]
  },
  {
   "cell_type": "code",
   "execution_count": null,
   "metadata": {},
   "outputs": [],
   "source": [
    "output_df\n",
    "#df.to_json(\"../server/static/analyzed_data.json\", orient='records', default_handler=str)"
   ]
  }
 ],
 "metadata": {
  "kernelspec": {
   "display_name": "Python 3",
   "language": "python",
   "name": "python3"
  },
  "language_info": {
   "codemirror_mode": {
    "name": "ipython",
    "version": 3
   },
   "file_extension": ".py",
   "mimetype": "text/x-python",
   "name": "python",
   "nbconvert_exporter": "python",
   "pygments_lexer": "ipython3",
   "version": "3.12.1"
  }
 },
 "nbformat": 4,
 "nbformat_minor": 2
}
